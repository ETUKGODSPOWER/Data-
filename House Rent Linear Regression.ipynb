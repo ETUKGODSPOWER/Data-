{
 "cells": [
  {
   "cell_type": "code",
   "execution_count": 6,
   "id": "83370c11-fa10-4d11-888f-bcf79ff87495",
   "metadata": {},
   "outputs": [],
   "source": [
    "import pandas as pd\n",
    "from sklearn.model_selection import train_test_split\n",
    "from sklearn.linear_model import LinearRegression\n",
    "import statsmodels.api as sm\n",
    "from mlxtend.preprocessing import TransactionEncoder"
   ]
  },
  {
   "cell_type": "code",
   "execution_count": 3,
   "id": "4bf1c600-eae2-4dab-8fcb-8d4f9c59923b",
   "metadata": {},
   "outputs": [
    {
     "data": {
      "text/html": [
       "<div>\n",
       "<style scoped>\n",
       "    .dataframe tbody tr th:only-of-type {\n",
       "        vertical-align: middle;\n",
       "    }\n",
       "\n",
       "    .dataframe tbody tr th {\n",
       "        vertical-align: top;\n",
       "    }\n",
       "\n",
       "    .dataframe thead th {\n",
       "        text-align: right;\n",
       "    }\n",
       "</style>\n",
       "<table border=\"1\" class=\"dataframe\">\n",
       "  <thead>\n",
       "    <tr style=\"text-align: right;\">\n",
       "      <th></th>\n",
       "      <th>squarefoot</th>\n",
       "      <th>location</th>\n",
       "      <th>num_past_occupants</th>\n",
       "      <th>rent</th>\n",
       "      <th>building_type</th>\n",
       "    </tr>\n",
       "  </thead>\n",
       "  <tbody>\n",
       "    <tr>\n",
       "      <th>0</th>\n",
       "      <td>1160</td>\n",
       "      <td>Suburb</td>\n",
       "      <td>2</td>\n",
       "      <td>5315.700720</td>\n",
       "      <td>Apartment</td>\n",
       "    </tr>\n",
       "    <tr>\n",
       "      <th>1</th>\n",
       "      <td>4072</td>\n",
       "      <td>Downtown</td>\n",
       "      <td>4</td>\n",
       "      <td>21588.912282</td>\n",
       "      <td>House</td>\n",
       "    </tr>\n",
       "    <tr>\n",
       "      <th>2</th>\n",
       "      <td>3392</td>\n",
       "      <td>Suburb</td>\n",
       "      <td>2</td>\n",
       "      <td>13223.827804</td>\n",
       "      <td>House</td>\n",
       "    </tr>\n",
       "    <tr>\n",
       "      <th>3</th>\n",
       "      <td>766</td>\n",
       "      <td>Downtown</td>\n",
       "      <td>6</td>\n",
       "      <td>5259.090670</td>\n",
       "      <td>Apartment</td>\n",
       "    </tr>\n",
       "    <tr>\n",
       "      <th>4</th>\n",
       "      <td>4726</td>\n",
       "      <td>Rural</td>\n",
       "      <td>6</td>\n",
       "      <td>18101.249014</td>\n",
       "      <td>House</td>\n",
       "    </tr>\n",
       "  </tbody>\n",
       "</table>\n",
       "</div>"
      ],
      "text/plain": [
       "   squarefoot  location  num_past_occupants          rent building_type\n",
       "0        1160    Suburb                   2   5315.700720     Apartment\n",
       "1        4072  Downtown                   4  21588.912282         House\n",
       "2        3392    Suburb                   2  13223.827804         House\n",
       "3         766  Downtown                   6   5259.090670     Apartment\n",
       "4        4726     Rural                   6  18101.249014         House"
      ]
     },
     "execution_count": 3,
     "metadata": {},
     "output_type": "execute_result"
    }
   ],
   "source": [
    "rent = pd.read_csv(\"House Rent.csv\")\n",
    "rent.head()"
   ]
  },
  {
   "cell_type": "code",
   "execution_count": 5,
   "id": "b103038e-bfa0-4560-8860-4d39ee4b47c6",
   "metadata": {},
   "outputs": [
    {
     "name": "stdout",
     "output_type": "stream",
     "text": [
      "<class 'pandas.core.frame.DataFrame'>\n",
      "RangeIndex: 5000 entries, 0 to 4999\n",
      "Data columns (total 5 columns):\n",
      " #   Column              Non-Null Count  Dtype  \n",
      "---  ------              --------------  -----  \n",
      " 0   squarefoot          5000 non-null   int64  \n",
      " 1   location            5000 non-null   object \n",
      " 2   num_past_occupants  5000 non-null   int64  \n",
      " 3   rent                5000 non-null   float64\n",
      " 4   building_type       5000 non-null   object \n",
      "dtypes: float64(1), int64(2), object(2)\n",
      "memory usage: 195.4+ KB\n"
     ]
    }
   ],
   "source": [
    "rent.info()"
   ]
  },
  {
   "cell_type": "code",
   "execution_count": null,
   "id": "2dad2f10-3e18-48c0-a2ce-1d39b81e7002",
   "metadata": {},
   "outputs": [],
   "source": [
    "rent = pd.get_dummies(rent, columns = ['location'],drop_first = True)"
   ]
  },
  {
   "cell_type": "code",
   "execution_count": 12,
   "id": "36384f09-0061-4725-a045-782eb2323b69",
   "metadata": {},
   "outputs": [
    {
     "data": {
      "text/html": [
       "<div>\n",
       "<style scoped>\n",
       "    .dataframe tbody tr th:only-of-type {\n",
       "        vertical-align: middle;\n",
       "    }\n",
       "\n",
       "    .dataframe tbody tr th {\n",
       "        vertical-align: top;\n",
       "    }\n",
       "\n",
       "    .dataframe thead th {\n",
       "        text-align: right;\n",
       "    }\n",
       "</style>\n",
       "<table border=\"1\" class=\"dataframe\">\n",
       "  <thead>\n",
       "    <tr style=\"text-align: right;\">\n",
       "      <th></th>\n",
       "      <th>squarefoot</th>\n",
       "      <th>num_past_occupants</th>\n",
       "      <th>rent</th>\n",
       "      <th>building_type</th>\n",
       "      <th>location_Rural</th>\n",
       "      <th>location_Suburb</th>\n",
       "    </tr>\n",
       "  </thead>\n",
       "  <tbody>\n",
       "    <tr>\n",
       "      <th>0</th>\n",
       "      <td>1160</td>\n",
       "      <td>2</td>\n",
       "      <td>5315.700720</td>\n",
       "      <td>Apartment</td>\n",
       "      <td>False</td>\n",
       "      <td>True</td>\n",
       "    </tr>\n",
       "    <tr>\n",
       "      <th>1</th>\n",
       "      <td>4072</td>\n",
       "      <td>4</td>\n",
       "      <td>21588.912282</td>\n",
       "      <td>House</td>\n",
       "      <td>False</td>\n",
       "      <td>False</td>\n",
       "    </tr>\n",
       "    <tr>\n",
       "      <th>2</th>\n",
       "      <td>3392</td>\n",
       "      <td>2</td>\n",
       "      <td>13223.827804</td>\n",
       "      <td>House</td>\n",
       "      <td>False</td>\n",
       "      <td>True</td>\n",
       "    </tr>\n",
       "    <tr>\n",
       "      <th>3</th>\n",
       "      <td>766</td>\n",
       "      <td>6</td>\n",
       "      <td>5259.090670</td>\n",
       "      <td>Apartment</td>\n",
       "      <td>False</td>\n",
       "      <td>False</td>\n",
       "    </tr>\n",
       "    <tr>\n",
       "      <th>4</th>\n",
       "      <td>4726</td>\n",
       "      <td>6</td>\n",
       "      <td>18101.249014</td>\n",
       "      <td>House</td>\n",
       "      <td>True</td>\n",
       "      <td>False</td>\n",
       "    </tr>\n",
       "  </tbody>\n",
       "</table>\n",
       "</div>"
      ],
      "text/plain": [
       "   squarefoot  num_past_occupants          rent building_type  location_Rural  \\\n",
       "0        1160                   2   5315.700720     Apartment           False   \n",
       "1        4072                   4  21588.912282         House           False   \n",
       "2        3392                   2  13223.827804         House           False   \n",
       "3         766                   6   5259.090670     Apartment           False   \n",
       "4        4726                   6  18101.249014         House            True   \n",
       "\n",
       "   location_Suburb  \n",
       "0             True  \n",
       "1            False  \n",
       "2             True  \n",
       "3            False  \n",
       "4            False  "
      ]
     },
     "execution_count": 12,
     "metadata": {},
     "output_type": "execute_result"
    }
   ],
   "source": [
    "rent.head()"
   ]
  },
  {
   "cell_type": "code",
   "execution_count": 14,
   "id": "161aae32-60c2-438c-aa66-6b6da0fd2cf2",
   "metadata": {},
   "outputs": [],
   "source": [
    "bool_columns = ['location_Rural', 'location_Suburb']\n",
    "rent[bool_columns] = rent[bool_columns].astype(int)"
   ]
  },
  {
   "cell_type": "code",
   "execution_count": 15,
   "id": "9645fad2-7ec1-4734-be83-30609b58a9ad",
   "metadata": {},
   "outputs": [
    {
     "data": {
      "text/html": [
       "<div>\n",
       "<style scoped>\n",
       "    .dataframe tbody tr th:only-of-type {\n",
       "        vertical-align: middle;\n",
       "    }\n",
       "\n",
       "    .dataframe tbody tr th {\n",
       "        vertical-align: top;\n",
       "    }\n",
       "\n",
       "    .dataframe thead th {\n",
       "        text-align: right;\n",
       "    }\n",
       "</style>\n",
       "<table border=\"1\" class=\"dataframe\">\n",
       "  <thead>\n",
       "    <tr style=\"text-align: right;\">\n",
       "      <th></th>\n",
       "      <th>squarefoot</th>\n",
       "      <th>num_past_occupants</th>\n",
       "      <th>rent</th>\n",
       "      <th>building_type</th>\n",
       "      <th>location_Rural</th>\n",
       "      <th>location_Suburb</th>\n",
       "    </tr>\n",
       "  </thead>\n",
       "  <tbody>\n",
       "    <tr>\n",
       "      <th>0</th>\n",
       "      <td>1160</td>\n",
       "      <td>2</td>\n",
       "      <td>5315.700720</td>\n",
       "      <td>Apartment</td>\n",
       "      <td>0</td>\n",
       "      <td>1</td>\n",
       "    </tr>\n",
       "    <tr>\n",
       "      <th>1</th>\n",
       "      <td>4072</td>\n",
       "      <td>4</td>\n",
       "      <td>21588.912282</td>\n",
       "      <td>House</td>\n",
       "      <td>0</td>\n",
       "      <td>0</td>\n",
       "    </tr>\n",
       "    <tr>\n",
       "      <th>2</th>\n",
       "      <td>3392</td>\n",
       "      <td>2</td>\n",
       "      <td>13223.827804</td>\n",
       "      <td>House</td>\n",
       "      <td>0</td>\n",
       "      <td>1</td>\n",
       "    </tr>\n",
       "    <tr>\n",
       "      <th>3</th>\n",
       "      <td>766</td>\n",
       "      <td>6</td>\n",
       "      <td>5259.090670</td>\n",
       "      <td>Apartment</td>\n",
       "      <td>0</td>\n",
       "      <td>0</td>\n",
       "    </tr>\n",
       "    <tr>\n",
       "      <th>4</th>\n",
       "      <td>4726</td>\n",
       "      <td>6</td>\n",
       "      <td>18101.249014</td>\n",
       "      <td>House</td>\n",
       "      <td>1</td>\n",
       "      <td>0</td>\n",
       "    </tr>\n",
       "  </tbody>\n",
       "</table>\n",
       "</div>"
      ],
      "text/plain": [
       "   squarefoot  num_past_occupants          rent building_type  location_Rural  \\\n",
       "0        1160                   2   5315.700720     Apartment               0   \n",
       "1        4072                   4  21588.912282         House               0   \n",
       "2        3392                   2  13223.827804         House               0   \n",
       "3         766                   6   5259.090670     Apartment               0   \n",
       "4        4726                   6  18101.249014         House               1   \n",
       "\n",
       "   location_Suburb  \n",
       "0                1  \n",
       "1                0  \n",
       "2                1  \n",
       "3                0  \n",
       "4                0  "
      ]
     },
     "execution_count": 15,
     "metadata": {},
     "output_type": "execute_result"
    }
   ],
   "source": [
    "rent.head()"
   ]
  },
  {
   "cell_type": "code",
   "execution_count": 30,
   "id": "9620fb5a-8d48-4487-9b67-f8b84a61974c",
   "metadata": {},
   "outputs": [],
   "source": [
    "from sklearn.preprocessing import StandardScaler\n",
    "\n",
    "scaler = StandardScaler()\n",
    "rent['squarefoot']= scaler.fit_transform(rent[['squarefoot']])"
   ]
  },
  {
   "cell_type": "code",
   "execution_count": 31,
   "id": "14318060-2dde-4844-9801-440d401284c5",
   "metadata": {},
   "outputs": [],
   "source": [
    "X = rent[['squarefoot','location_Rural', 'location_Suburb' ]]\n",
    "y = rent['rent']"
   ]
  },
  {
   "cell_type": "code",
   "execution_count": 32,
   "id": "9ecfafd4-a4e2-42d1-81f1-017c843e6fcc",
   "metadata": {},
   "outputs": [],
   "source": [
    "X_train, X_test, y_train, y_test = train_test_split(X, y, test_size = 0.20, random_state = 42)"
   ]
  },
  {
   "cell_type": "code",
   "execution_count": 33,
   "id": "c1e225ea-7bb1-4ede-9a0f-5aaa917922fb",
   "metadata": {},
   "outputs": [
    {
     "data": {
      "text/html": [
       "<style>#sk-container-id-2 {color: black;background-color: white;}#sk-container-id-2 pre{padding: 0;}#sk-container-id-2 div.sk-toggleable {background-color: white;}#sk-container-id-2 label.sk-toggleable__label {cursor: pointer;display: block;width: 100%;margin-bottom: 0;padding: 0.3em;box-sizing: border-box;text-align: center;}#sk-container-id-2 label.sk-toggleable__label-arrow:before {content: \"▸\";float: left;margin-right: 0.25em;color: #696969;}#sk-container-id-2 label.sk-toggleable__label-arrow:hover:before {color: black;}#sk-container-id-2 div.sk-estimator:hover label.sk-toggleable__label-arrow:before {color: black;}#sk-container-id-2 div.sk-toggleable__content {max-height: 0;max-width: 0;overflow: hidden;text-align: left;background-color: #f0f8ff;}#sk-container-id-2 div.sk-toggleable__content pre {margin: 0.2em;color: black;border-radius: 0.25em;background-color: #f0f8ff;}#sk-container-id-2 input.sk-toggleable__control:checked~div.sk-toggleable__content {max-height: 200px;max-width: 100%;overflow: auto;}#sk-container-id-2 input.sk-toggleable__control:checked~label.sk-toggleable__label-arrow:before {content: \"▾\";}#sk-container-id-2 div.sk-estimator input.sk-toggleable__control:checked~label.sk-toggleable__label {background-color: #d4ebff;}#sk-container-id-2 div.sk-label input.sk-toggleable__control:checked~label.sk-toggleable__label {background-color: #d4ebff;}#sk-container-id-2 input.sk-hidden--visually {border: 0;clip: rect(1px 1px 1px 1px);clip: rect(1px, 1px, 1px, 1px);height: 1px;margin: -1px;overflow: hidden;padding: 0;position: absolute;width: 1px;}#sk-container-id-2 div.sk-estimator {font-family: monospace;background-color: #f0f8ff;border: 1px dotted black;border-radius: 0.25em;box-sizing: border-box;margin-bottom: 0.5em;}#sk-container-id-2 div.sk-estimator:hover {background-color: #d4ebff;}#sk-container-id-2 div.sk-parallel-item::after {content: \"\";width: 100%;border-bottom: 1px solid gray;flex-grow: 1;}#sk-container-id-2 div.sk-label:hover label.sk-toggleable__label {background-color: #d4ebff;}#sk-container-id-2 div.sk-serial::before {content: \"\";position: absolute;border-left: 1px solid gray;box-sizing: border-box;top: 0;bottom: 0;left: 50%;z-index: 0;}#sk-container-id-2 div.sk-serial {display: flex;flex-direction: column;align-items: center;background-color: white;padding-right: 0.2em;padding-left: 0.2em;position: relative;}#sk-container-id-2 div.sk-item {position: relative;z-index: 1;}#sk-container-id-2 div.sk-parallel {display: flex;align-items: stretch;justify-content: center;background-color: white;position: relative;}#sk-container-id-2 div.sk-item::before, #sk-container-id-2 div.sk-parallel-item::before {content: \"\";position: absolute;border-left: 1px solid gray;box-sizing: border-box;top: 0;bottom: 0;left: 50%;z-index: -1;}#sk-container-id-2 div.sk-parallel-item {display: flex;flex-direction: column;z-index: 1;position: relative;background-color: white;}#sk-container-id-2 div.sk-parallel-item:first-child::after {align-self: flex-end;width: 50%;}#sk-container-id-2 div.sk-parallel-item:last-child::after {align-self: flex-start;width: 50%;}#sk-container-id-2 div.sk-parallel-item:only-child::after {width: 0;}#sk-container-id-2 div.sk-dashed-wrapped {border: 1px dashed gray;margin: 0 0.4em 0.5em 0.4em;box-sizing: border-box;padding-bottom: 0.4em;background-color: white;}#sk-container-id-2 div.sk-label label {font-family: monospace;font-weight: bold;display: inline-block;line-height: 1.2em;}#sk-container-id-2 div.sk-label-container {text-align: center;}#sk-container-id-2 div.sk-container {/* jupyter's `normalize.less` sets `[hidden] { display: none; }` but bootstrap.min.css set `[hidden] { display: none !important; }` so we also need the `!important` here to be able to override the default hidden behavior on the sphinx rendered scikit-learn.org. See: https://github.com/scikit-learn/scikit-learn/issues/21755 */display: inline-block !important;position: relative;}#sk-container-id-2 div.sk-text-repr-fallback {display: none;}</style><div id=\"sk-container-id-2\" class=\"sk-top-container\"><div class=\"sk-text-repr-fallback\"><pre>LinearRegression()</pre><b>In a Jupyter environment, please rerun this cell to show the HTML representation or trust the notebook. <br />On GitHub, the HTML representation is unable to render, please try loading this page with nbviewer.org.</b></div><div class=\"sk-container\" hidden><div class=\"sk-item\"><div class=\"sk-estimator sk-toggleable\"><input class=\"sk-toggleable__control sk-hidden--visually\" id=\"sk-estimator-id-2\" type=\"checkbox\" checked><label for=\"sk-estimator-id-2\" class=\"sk-toggleable__label sk-toggleable__label-arrow\">LinearRegression</label><div class=\"sk-toggleable__content\"><pre>LinearRegression()</pre></div></div></div></div></div>"
      ],
      "text/plain": [
       "LinearRegression()"
      ]
     },
     "execution_count": 33,
     "metadata": {},
     "output_type": "execute_result"
    }
   ],
   "source": [
    "model = LinearRegression()\n",
    "model.fit(X_train, y_train)"
   ]
  },
  {
   "cell_type": "markdown",
   "id": "fa23e82e-caf3-411e-8a07-fbffc228eeca",
   "metadata": {},
   "source": [
    "### Predictions"
   ]
  },
  {
   "cell_type": "code",
   "execution_count": 34,
   "id": "be65cc6d-08c4-4b0c-aeb6-4ee4c5edd16d",
   "metadata": {},
   "outputs": [],
   "source": [
    "y_pred = model.predict(X_test)"
   ]
  },
  {
   "cell_type": "code",
   "execution_count": null,
   "id": "9ecfcc89-ad53-4ace-9ea6-437f312e603b",
   "metadata": {},
   "outputs": [],
   "source": [
    "y_pred"
   ]
  },
  {
   "cell_type": "code",
   "execution_count": 38,
   "id": "fbc889f4-671c-4383-aa41-9785e5eb9393",
   "metadata": {},
   "outputs": [],
   "source": [
    "from sklearn.metrics import mean_squared_error, r2_score"
   ]
  },
  {
   "cell_type": "code",
   "execution_count": 39,
   "id": "dd7b7824-b938-4558-be40-d55f1de391a7",
   "metadata": {},
   "outputs": [
    {
     "data": {
      "text/plain": [
       "5653192.099922772"
      ]
     },
     "execution_count": 39,
     "metadata": {},
     "output_type": "execute_result"
    }
   ],
   "source": [
    "MSE = mean_squared_error(y_pred, y_test)\n",
    "MSE"
   ]
  },
  {
   "cell_type": "code",
   "execution_count": 40,
   "id": "8a5f69af-f8d7-46f3-89e2-9c9351c853bd",
   "metadata": {},
   "outputs": [
    {
     "data": {
      "text/plain": [
       "0.8832534797011372"
      ]
     },
     "execution_count": 40,
     "metadata": {},
     "output_type": "execute_result"
    }
   ],
   "source": [
    "R2 = r2_score(y_pred, y_test)\n",
    "R2"
   ]
  },
  {
   "cell_type": "code",
   "execution_count": 42,
   "id": "f49f190a-053f-43ba-80c6-f75b0b5f44f3",
   "metadata": {},
   "outputs": [
    {
     "name": "stdout",
     "output_type": "stream",
     "text": [
      "                            OLS Regression Results                            \n",
      "==============================================================================\n",
      "Dep. Variable:                   rent   R-squared:                       0.898\n",
      "Model:                            OLS   Adj. R-squared:                  0.898\n",
      "Method:                 Least Squares   F-statistic:                 1.169e+04\n",
      "Date:                Tue, 06 Aug 2024   Prob (F-statistic):               0.00\n",
      "Time:                        11:55:27   Log-Likelihood:                -36719.\n",
      "No. Observations:                4000   AIC:                         7.345e+04\n",
      "Df Residuals:                    3996   BIC:                         7.347e+04\n",
      "Df Model:                           3                                         \n",
      "Covariance Type:            nonrobust                                         \n",
      "===================================================================================\n",
      "                      coef    std err          t      P>|t|      [0.025      0.975]\n",
      "-----------------------------------------------------------------------------------\n",
      "const            1.591e+04     63.999    248.668      0.000    1.58e+04     1.6e+04\n",
      "squarefoot       6621.9915     37.036    178.797      0.000    6549.380    6694.603\n",
      "location_Rural  -5359.0789     91.675    -58.457      0.000   -5538.814   -5179.344\n",
      "location_Suburb -3326.9779     90.040    -36.950      0.000   -3503.506   -3150.450\n",
      "==============================================================================\n",
      "Omnibus:                      148.611   Durbin-Watson:                   2.010\n",
      "Prob(Omnibus):                  0.000   Jarque-Bera (JB):              221.770\n",
      "Skew:                           0.355   Prob(JB):                     6.97e-49\n",
      "Kurtosis:                       3.909   Cond. No.                         3.72\n",
      "==============================================================================\n",
      "\n",
      "Notes:\n",
      "[1] Standard Errors assume that the covariance matrix of the errors is correctly specified.\n"
     ]
    }
   ],
   "source": [
    "X_train_sm = sm.add_constant(X_train) # Adding a constant for the intercept\n",
    "model_sm = sm.OLS(y_train, X_train_sm).fit()\n",
    "print(model_sm.summary())"
   ]
  },
  {
   "cell_type": "code",
   "execution_count": 43,
   "id": "21db26c7-ecac-41f7-b526-ecee8a6f8497",
   "metadata": {},
   "outputs": [
    {
     "data": {
      "text/html": [
       "<div>\n",
       "<style scoped>\n",
       "    .dataframe tbody tr th:only-of-type {\n",
       "        vertical-align: middle;\n",
       "    }\n",
       "\n",
       "    .dataframe tbody tr th {\n",
       "        vertical-align: top;\n",
       "    }\n",
       "\n",
       "    .dataframe thead th {\n",
       "        text-align: right;\n",
       "    }\n",
       "</style>\n",
       "<table border=\"1\" class=\"dataframe\">\n",
       "  <thead>\n",
       "    <tr style=\"text-align: right;\">\n",
       "      <th></th>\n",
       "      <th>squarefoot</th>\n",
       "      <th>location_Rural</th>\n",
       "      <th>location_Suburb</th>\n",
       "    </tr>\n",
       "  </thead>\n",
       "  <tbody>\n",
       "    <tr>\n",
       "      <th>squarefoot</th>\n",
       "      <td>1.000000</td>\n",
       "      <td>0.008092</td>\n",
       "      <td>0.004813</td>\n",
       "    </tr>\n",
       "    <tr>\n",
       "      <th>location_Rural</th>\n",
       "      <td>0.008092</td>\n",
       "      <td>1.000000</td>\n",
       "      <td>-0.494233</td>\n",
       "    </tr>\n",
       "    <tr>\n",
       "      <th>location_Suburb</th>\n",
       "      <td>0.004813</td>\n",
       "      <td>-0.494233</td>\n",
       "      <td>1.000000</td>\n",
       "    </tr>\n",
       "  </tbody>\n",
       "</table>\n",
       "</div>"
      ],
      "text/plain": [
       "                 squarefoot  location_Rural  location_Suburb\n",
       "squarefoot         1.000000        0.008092         0.004813\n",
       "location_Rural     0.008092        1.000000        -0.494233\n",
       "location_Suburb    0.004813       -0.494233         1.000000"
      ]
     },
     "execution_count": 43,
     "metadata": {},
     "output_type": "execute_result"
    }
   ],
   "source": [
    "correlation = X.corr()\n",
    "correlation"
   ]
  },
  {
   "cell_type": "code",
   "execution_count": null,
   "id": "e6a7c673-77b5-4798-a68e-4baeb9635fdb",
   "metadata": {},
   "outputs": [],
   "source": []
  }
 ],
 "metadata": {
  "kernelspec": {
   "display_name": "Python 3 (ipykernel)",
   "language": "python",
   "name": "python3"
  },
  "language_info": {
   "codemirror_mode": {
    "name": "ipython",
    "version": 3
   },
   "file_extension": ".py",
   "mimetype": "text/x-python",
   "name": "python",
   "nbconvert_exporter": "python",
   "pygments_lexer": "ipython3",
   "version": "3.11.7"
  }
 },
 "nbformat": 4,
 "nbformat_minor": 5
}
