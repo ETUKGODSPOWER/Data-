{
 "cells": [
  {
   "cell_type": "code",
   "execution_count": 53,
   "id": "01b1f7a6-701b-4104-bb90-649363fd9fc0",
   "metadata": {},
   "outputs": [],
   "source": [
    "import pandas as pd"
   ]
  },
  {
   "cell_type": "code",
   "execution_count": 54,
   "id": "07137ab1-2132-4760-a373-cbc6bbb96710",
   "metadata": {},
   "outputs": [],
   "source": [
    "DS_Salaries = pd.read_csv('ds_salaries.csv')"
   ]
  },
  {
   "cell_type": "code",
   "execution_count": 55,
   "id": "acbcb445-2e60-4021-a855-9bd9f24039ca",
   "metadata": {},
   "outputs": [
    {
     "data": {
      "text/html": [
       "<div>\n",
       "<style scoped>\n",
       "    .dataframe tbody tr th:only-of-type {\n",
       "        vertical-align: middle;\n",
       "    }\n",
       "\n",
       "    .dataframe tbody tr th {\n",
       "        vertical-align: top;\n",
       "    }\n",
       "\n",
       "    .dataframe thead th {\n",
       "        text-align: right;\n",
       "    }\n",
       "</style>\n",
       "<table border=\"1\" class=\"dataframe\">\n",
       "  <thead>\n",
       "    <tr style=\"text-align: right;\">\n",
       "      <th></th>\n",
       "      <th>work_year</th>\n",
       "      <th>experience_level</th>\n",
       "      <th>employment_type</th>\n",
       "      <th>job_title</th>\n",
       "      <th>salary</th>\n",
       "      <th>salary_currency</th>\n",
       "      <th>salary_in_usd</th>\n",
       "      <th>employee_residence</th>\n",
       "      <th>remote_ratio</th>\n",
       "      <th>company_location</th>\n",
       "      <th>company_size</th>\n",
       "    </tr>\n",
       "  </thead>\n",
       "  <tbody>\n",
       "    <tr>\n",
       "      <th>0</th>\n",
       "      <td>2023</td>\n",
       "      <td>SE</td>\n",
       "      <td>FT</td>\n",
       "      <td>Principal Data Scientist</td>\n",
       "      <td>80000</td>\n",
       "      <td>EUR</td>\n",
       "      <td>85847</td>\n",
       "      <td>ES</td>\n",
       "      <td>100</td>\n",
       "      <td>ES</td>\n",
       "      <td>L</td>\n",
       "    </tr>\n",
       "    <tr>\n",
       "      <th>1</th>\n",
       "      <td>2023</td>\n",
       "      <td>MI</td>\n",
       "      <td>CT</td>\n",
       "      <td>ML Engineer</td>\n",
       "      <td>30000</td>\n",
       "      <td>USD</td>\n",
       "      <td>30000</td>\n",
       "      <td>US</td>\n",
       "      <td>100</td>\n",
       "      <td>US</td>\n",
       "      <td>S</td>\n",
       "    </tr>\n",
       "    <tr>\n",
       "      <th>2</th>\n",
       "      <td>2023</td>\n",
       "      <td>MI</td>\n",
       "      <td>CT</td>\n",
       "      <td>ML Engineer</td>\n",
       "      <td>25500</td>\n",
       "      <td>USD</td>\n",
       "      <td>25500</td>\n",
       "      <td>US</td>\n",
       "      <td>100</td>\n",
       "      <td>US</td>\n",
       "      <td>S</td>\n",
       "    </tr>\n",
       "  </tbody>\n",
       "</table>\n",
       "</div>"
      ],
      "text/plain": [
       "   work_year experience_level employment_type                 job_title  \\\n",
       "0       2023               SE              FT  Principal Data Scientist   \n",
       "1       2023               MI              CT               ML Engineer   \n",
       "2       2023               MI              CT               ML Engineer   \n",
       "\n",
       "   salary salary_currency  salary_in_usd employee_residence  remote_ratio  \\\n",
       "0   80000             EUR          85847                 ES           100   \n",
       "1   30000             USD          30000                 US           100   \n",
       "2   25500             USD          25500                 US           100   \n",
       "\n",
       "  company_location company_size  \n",
       "0               ES            L  \n",
       "1               US            S  \n",
       "2               US            S  "
      ]
     },
     "execution_count": 55,
     "metadata": {},
     "output_type": "execute_result"
    }
   ],
   "source": [
    "DS_Salaries.head(3)"
   ]
  },
  {
   "cell_type": "code",
   "execution_count": 56,
   "id": "6a69e8df-134e-40e8-9b04-f5614cad647b",
   "metadata": {},
   "outputs": [
    {
     "name": "stdout",
     "output_type": "stream",
     "text": [
      "<class 'pandas.core.frame.DataFrame'>\n",
      "RangeIndex: 3755 entries, 0 to 3754\n",
      "Data columns (total 11 columns):\n",
      " #   Column              Non-Null Count  Dtype \n",
      "---  ------              --------------  ----- \n",
      " 0   work_year           3755 non-null   int64 \n",
      " 1   experience_level    3755 non-null   object\n",
      " 2   employment_type     3755 non-null   object\n",
      " 3   job_title           3755 non-null   object\n",
      " 4   salary              3755 non-null   int64 \n",
      " 5   salary_currency     3755 non-null   object\n",
      " 6   salary_in_usd       3755 non-null   int64 \n",
      " 7   employee_residence  3755 non-null   object\n",
      " 8   remote_ratio        3755 non-null   int64 \n",
      " 9   company_location    3755 non-null   object\n",
      " 10  company_size        3755 non-null   object\n",
      "dtypes: int64(4), object(7)\n",
      "memory usage: 322.8+ KB\n"
     ]
    }
   ],
   "source": [
    "DS_Salaries.info()"
   ]
  },
  {
   "cell_type": "code",
   "execution_count": 57,
   "id": "bac7beb6-deeb-4d3e-ab6f-7ffce9b81787",
   "metadata": {},
   "outputs": [
    {
     "data": {
      "text/plain": [
       "work_year             0\n",
       "experience_level      0\n",
       "employment_type       0\n",
       "job_title             0\n",
       "salary                0\n",
       "salary_currency       0\n",
       "salary_in_usd         0\n",
       "employee_residence    0\n",
       "remote_ratio          0\n",
       "company_location      0\n",
       "company_size          0\n",
       "dtype: int64"
      ]
     },
     "execution_count": 57,
     "metadata": {},
     "output_type": "execute_result"
    }
   ],
   "source": [
    "DS_Salaries.isnull().sum()"
   ]
  },
  {
   "cell_type": "code",
   "execution_count": 58,
   "id": "a6652427-7d75-4750-89b3-e3b9a5bf67a3",
   "metadata": {},
   "outputs": [
    {
     "data": {
      "text/plain": [
       "1171"
      ]
     },
     "execution_count": 58,
     "metadata": {},
     "output_type": "execute_result"
    }
   ],
   "source": [
    "DS_Salaries.duplicated().sum()"
   ]
  },
  {
   "cell_type": "code",
   "execution_count": 59,
   "id": "2624bc89-9f6c-45fa-8977-54f93c31b97e",
   "metadata": {},
   "outputs": [],
   "source": [
    "DS_Salaries.drop_duplicates(inplace=True)"
   ]
  },
  {
   "cell_type": "code",
   "execution_count": 60,
   "id": "6ad01bbc-cc27-4de7-b68c-4e3a00ec71e6",
   "metadata": {},
   "outputs": [],
   "source": [
    "DS_Salaries = DS_Salaries.drop_duplicates()"
   ]
  },
  {
   "cell_type": "code",
   "execution_count": 61,
   "id": "1e539cf5-5342-42f1-bd90-2c4e0ee6653e",
   "metadata": {},
   "outputs": [
    {
     "data": {
      "text/plain": [
       "0"
      ]
     },
     "execution_count": 61,
     "metadata": {},
     "output_type": "execute_result"
    }
   ],
   "source": [
    "DS_Salaries.duplicated().sum()"
   ]
  },
  {
   "cell_type": "code",
   "execution_count": 62,
   "id": "73bfb6f0-e6a4-4bfe-b6ad-00515c18ac7b",
   "metadata": {},
   "outputs": [
    {
     "data": {
      "text/html": [
       "<div>\n",
       "<style scoped>\n",
       "    .dataframe tbody tr th:only-of-type {\n",
       "        vertical-align: middle;\n",
       "    }\n",
       "\n",
       "    .dataframe tbody tr th {\n",
       "        vertical-align: top;\n",
       "    }\n",
       "\n",
       "    .dataframe thead th {\n",
       "        text-align: right;\n",
       "    }\n",
       "</style>\n",
       "<table border=\"1\" class=\"dataframe\">\n",
       "  <thead>\n",
       "    <tr style=\"text-align: right;\">\n",
       "      <th></th>\n",
       "      <th>work_year</th>\n",
       "      <th>salary</th>\n",
       "      <th>salary_in_usd</th>\n",
       "      <th>remote_ratio</th>\n",
       "    </tr>\n",
       "  </thead>\n",
       "  <tbody>\n",
       "    <tr>\n",
       "      <th>count</th>\n",
       "      <td>2584.000000</td>\n",
       "      <td>2.584000e+03</td>\n",
       "      <td>2584.000000</td>\n",
       "      <td>2584.000000</td>\n",
       "    </tr>\n",
       "    <tr>\n",
       "      <th>mean</th>\n",
       "      <td>2022.301084</td>\n",
       "      <td>2.103653e+05</td>\n",
       "      <td>133409.280186</td>\n",
       "      <td>50.483746</td>\n",
       "    </tr>\n",
       "    <tr>\n",
       "      <th>std</th>\n",
       "      <td>0.749179</td>\n",
       "      <td>8.080375e+05</td>\n",
       "      <td>67136.837329</td>\n",
       "      <td>48.163707</td>\n",
       "    </tr>\n",
       "    <tr>\n",
       "      <th>min</th>\n",
       "      <td>2020.000000</td>\n",
       "      <td>6.000000e+03</td>\n",
       "      <td>5132.000000</td>\n",
       "      <td>0.000000</td>\n",
       "    </tr>\n",
       "    <tr>\n",
       "      <th>25%</th>\n",
       "      <td>2022.000000</td>\n",
       "      <td>9.000000e+04</td>\n",
       "      <td>84975.000000</td>\n",
       "      <td>0.000000</td>\n",
       "    </tr>\n",
       "    <tr>\n",
       "      <th>50%</th>\n",
       "      <td>2022.000000</td>\n",
       "      <td>1.346300e+05</td>\n",
       "      <td>130000.000000</td>\n",
       "      <td>50.000000</td>\n",
       "    </tr>\n",
       "    <tr>\n",
       "      <th>75%</th>\n",
       "      <td>2023.000000</td>\n",
       "      <td>1.825625e+05</td>\n",
       "      <td>175000.000000</td>\n",
       "      <td>100.000000</td>\n",
       "    </tr>\n",
       "    <tr>\n",
       "      <th>max</th>\n",
       "      <td>2023.000000</td>\n",
       "      <td>3.040000e+07</td>\n",
       "      <td>450000.000000</td>\n",
       "      <td>100.000000</td>\n",
       "    </tr>\n",
       "  </tbody>\n",
       "</table>\n",
       "</div>"
      ],
      "text/plain": [
       "         work_year        salary  salary_in_usd  remote_ratio\n",
       "count  2584.000000  2.584000e+03    2584.000000   2584.000000\n",
       "mean   2022.301084  2.103653e+05  133409.280186     50.483746\n",
       "std       0.749179  8.080375e+05   67136.837329     48.163707\n",
       "min    2020.000000  6.000000e+03    5132.000000      0.000000\n",
       "25%    2022.000000  9.000000e+04   84975.000000      0.000000\n",
       "50%    2022.000000  1.346300e+05  130000.000000     50.000000\n",
       "75%    2023.000000  1.825625e+05  175000.000000    100.000000\n",
       "max    2023.000000  3.040000e+07  450000.000000    100.000000"
      ]
     },
     "execution_count": 62,
     "metadata": {},
     "output_type": "execute_result"
    }
   ],
   "source": [
    "DS_Salaries.describe()"
   ]
  },
  {
   "cell_type": "code",
   "execution_count": 63,
   "id": "f61d4d17-09ce-4433-8078-bb9f6c5df473",
   "metadata": {},
   "outputs": [
    {
     "data": {
      "text/plain": [
       "array(['FT', 'CT', 'FL', 'PT'], dtype=object)"
      ]
     },
     "execution_count": 63,
     "metadata": {},
     "output_type": "execute_result"
    }
   ],
   "source": [
    "#Distinct Values in a Column\n",
    "DS_Salaries[\"employment_type\"].unique()"
   ]
  },
  {
   "cell_type": "code",
   "execution_count": 64,
   "id": "cffafa4a-65b5-4ada-a768-74f35b2bfdd9",
   "metadata": {},
   "outputs": [
    {
     "data": {
      "text/plain": [
       "work_year                4\n",
       "experience_level         4\n",
       "employment_type          4\n",
       "job_title               93\n",
       "salary                 815\n",
       "salary_currency         20\n",
       "salary_in_usd         1035\n",
       "employee_residence      78\n",
       "remote_ratio             3\n",
       "company_location        72\n",
       "company_size             3\n",
       "dtype: int64"
      ]
     },
     "execution_count": 64,
     "metadata": {},
     "output_type": "execute_result"
    }
   ],
   "source": [
    "DS_Salaries.nunique()"
   ]
  },
  {
   "cell_type": "code",
   "execution_count": 65,
   "id": "135607e1-bade-4419-b427-4062f0ce8031",
   "metadata": {},
   "outputs": [],
   "source": [
    "dict1 = {\"EN\" : \"Entry Level\", \"MI\" : \"Mid Level\", \"SE\" : \"Senior Level\", \"EX\" : \"Executive\" }\n",
    "dict2 = {\"FT\"  : \"Full Time\", \"CT\" : \"Contract\", \"FL\" : \"Free Lance\", \"PT\" : \"Part Time\"}\n",
    "\n",
    "DS_Salaries = DS_Salaries.replace({\"experience_level\" : dict1,\"employment_type\" : dict2 })"
   ]
  },
  {
   "cell_type": "code",
   "execution_count": 66,
   "id": "d5165005-9bfe-40e2-9591-0ecca760f592",
   "metadata": {},
   "outputs": [
    {
     "data": {
      "text/plain": [
       "array(['Full Time', 'Contract', 'Free Lance', 'Part Time'], dtype=object)"
      ]
     },
     "execution_count": 66,
     "metadata": {},
     "output_type": "execute_result"
    }
   ],
   "source": [
    "DS_Salaries[\"employment_type\"].unique()"
   ]
  },
  {
   "cell_type": "code",
   "execution_count": 67,
   "id": "f0b60ad3-b3e4-417d-8311-82196c3057cd",
   "metadata": {},
   "outputs": [
    {
     "data": {
      "text/plain": [
       "array(['Senior Level', 'Mid Level', 'Entry Level', 'Executive'],\n",
       "      dtype=object)"
      ]
     },
     "execution_count": 67,
     "metadata": {},
     "output_type": "execute_result"
    }
   ],
   "source": [
    "DS_Salaries[\"experience_level\"].unique()"
   ]
  },
  {
   "cell_type": "code",
   "execution_count": 68,
   "id": "8a20d2b7-5538-4551-8548-a1cfc9e26606",
   "metadata": {},
   "outputs": [
    {
     "data": {
      "text/plain": [
       "array(['L', 'S', 'M'], dtype=object)"
      ]
     },
     "execution_count": 68,
     "metadata": {},
     "output_type": "execute_result"
    }
   ],
   "source": [
    "DS_Salaries [\"company_size\"].unique()"
   ]
  },
  {
   "cell_type": "code",
   "execution_count": 69,
   "id": "f95ba296-8a6c-4692-a0b2-2249da85bf7d",
   "metadata": {},
   "outputs": [],
   "source": [
    "dict3 = {\"S\" : \"Small\", \"M\" : \"Medium\", \"L\" : \"Large\"}\n",
    "\n",
    "DS_Salaries = DS_Salaries.replace({\"company_size\" : dict3})"
   ]
  },
  {
   "cell_type": "code",
   "execution_count": 70,
   "id": "c34b3eb7-d052-4b35-b97e-3a56e61761b6",
   "metadata": {},
   "outputs": [
    {
     "data": {
      "text/html": [
       "<div>\n",
       "<style scoped>\n",
       "    .dataframe tbody tr th:only-of-type {\n",
       "        vertical-align: middle;\n",
       "    }\n",
       "\n",
       "    .dataframe tbody tr th {\n",
       "        vertical-align: top;\n",
       "    }\n",
       "\n",
       "    .dataframe thead th {\n",
       "        text-align: right;\n",
       "    }\n",
       "</style>\n",
       "<table border=\"1\" class=\"dataframe\">\n",
       "  <thead>\n",
       "    <tr style=\"text-align: right;\">\n",
       "      <th></th>\n",
       "      <th>work_year</th>\n",
       "      <th>experience_level</th>\n",
       "      <th>employment_type</th>\n",
       "      <th>job_title</th>\n",
       "      <th>salary</th>\n",
       "      <th>salary_currency</th>\n",
       "      <th>salary_in_usd</th>\n",
       "      <th>employee_residence</th>\n",
       "      <th>remote_ratio</th>\n",
       "      <th>company_location</th>\n",
       "      <th>company_size</th>\n",
       "    </tr>\n",
       "  </thead>\n",
       "  <tbody>\n",
       "    <tr>\n",
       "      <th>0</th>\n",
       "      <td>2023</td>\n",
       "      <td>Senior Level</td>\n",
       "      <td>Full Time</td>\n",
       "      <td>Principal Data Scientist</td>\n",
       "      <td>80000</td>\n",
       "      <td>EUR</td>\n",
       "      <td>85847</td>\n",
       "      <td>ES</td>\n",
       "      <td>100</td>\n",
       "      <td>ES</td>\n",
       "      <td>Large</td>\n",
       "    </tr>\n",
       "    <tr>\n",
       "      <th>5</th>\n",
       "      <td>2023</td>\n",
       "      <td>Senior Level</td>\n",
       "      <td>Full Time</td>\n",
       "      <td>Applied Scientist</td>\n",
       "      <td>222200</td>\n",
       "      <td>USD</td>\n",
       "      <td>222200</td>\n",
       "      <td>US</td>\n",
       "      <td>0</td>\n",
       "      <td>US</td>\n",
       "      <td>Large</td>\n",
       "    </tr>\n",
       "    <tr>\n",
       "      <th>6</th>\n",
       "      <td>2023</td>\n",
       "      <td>Senior Level</td>\n",
       "      <td>Full Time</td>\n",
       "      <td>Applied Scientist</td>\n",
       "      <td>136000</td>\n",
       "      <td>USD</td>\n",
       "      <td>136000</td>\n",
       "      <td>US</td>\n",
       "      <td>0</td>\n",
       "      <td>US</td>\n",
       "      <td>Large</td>\n",
       "    </tr>\n",
       "    <tr>\n",
       "      <th>13</th>\n",
       "      <td>2023</td>\n",
       "      <td>Entry Level</td>\n",
       "      <td>Full Time</td>\n",
       "      <td>Applied Scientist</td>\n",
       "      <td>213660</td>\n",
       "      <td>USD</td>\n",
       "      <td>213660</td>\n",
       "      <td>US</td>\n",
       "      <td>0</td>\n",
       "      <td>US</td>\n",
       "      <td>Large</td>\n",
       "    </tr>\n",
       "    <tr>\n",
       "      <th>14</th>\n",
       "      <td>2023</td>\n",
       "      <td>Entry Level</td>\n",
       "      <td>Full Time</td>\n",
       "      <td>Applied Scientist</td>\n",
       "      <td>130760</td>\n",
       "      <td>USD</td>\n",
       "      <td>130760</td>\n",
       "      <td>US</td>\n",
       "      <td>0</td>\n",
       "      <td>US</td>\n",
       "      <td>Large</td>\n",
       "    </tr>\n",
       "    <tr>\n",
       "      <th>...</th>\n",
       "      <td>...</td>\n",
       "      <td>...</td>\n",
       "      <td>...</td>\n",
       "      <td>...</td>\n",
       "      <td>...</td>\n",
       "      <td>...</td>\n",
       "      <td>...</td>\n",
       "      <td>...</td>\n",
       "      <td>...</td>\n",
       "      <td>...</td>\n",
       "      <td>...</td>\n",
       "    </tr>\n",
       "    <tr>\n",
       "      <th>3749</th>\n",
       "      <td>2021</td>\n",
       "      <td>Senior Level</td>\n",
       "      <td>Full Time</td>\n",
       "      <td>Data Specialist</td>\n",
       "      <td>165000</td>\n",
       "      <td>USD</td>\n",
       "      <td>165000</td>\n",
       "      <td>US</td>\n",
       "      <td>100</td>\n",
       "      <td>US</td>\n",
       "      <td>Large</td>\n",
       "    </tr>\n",
       "    <tr>\n",
       "      <th>3750</th>\n",
       "      <td>2020</td>\n",
       "      <td>Senior Level</td>\n",
       "      <td>Full Time</td>\n",
       "      <td>Data Scientist</td>\n",
       "      <td>412000</td>\n",
       "      <td>USD</td>\n",
       "      <td>412000</td>\n",
       "      <td>US</td>\n",
       "      <td>100</td>\n",
       "      <td>US</td>\n",
       "      <td>Large</td>\n",
       "    </tr>\n",
       "    <tr>\n",
       "      <th>3751</th>\n",
       "      <td>2021</td>\n",
       "      <td>Mid Level</td>\n",
       "      <td>Full Time</td>\n",
       "      <td>Principal Data Scientist</td>\n",
       "      <td>151000</td>\n",
       "      <td>USD</td>\n",
       "      <td>151000</td>\n",
       "      <td>US</td>\n",
       "      <td>100</td>\n",
       "      <td>US</td>\n",
       "      <td>Large</td>\n",
       "    </tr>\n",
       "    <tr>\n",
       "      <th>3753</th>\n",
       "      <td>2020</td>\n",
       "      <td>Entry Level</td>\n",
       "      <td>Contract</td>\n",
       "      <td>Business Data Analyst</td>\n",
       "      <td>100000</td>\n",
       "      <td>USD</td>\n",
       "      <td>100000</td>\n",
       "      <td>US</td>\n",
       "      <td>100</td>\n",
       "      <td>US</td>\n",
       "      <td>Large</td>\n",
       "    </tr>\n",
       "    <tr>\n",
       "      <th>3754</th>\n",
       "      <td>2021</td>\n",
       "      <td>Senior Level</td>\n",
       "      <td>Full Time</td>\n",
       "      <td>Data Science Manager</td>\n",
       "      <td>7000000</td>\n",
       "      <td>INR</td>\n",
       "      <td>94665</td>\n",
       "      <td>IN</td>\n",
       "      <td>50</td>\n",
       "      <td>IN</td>\n",
       "      <td>Large</td>\n",
       "    </tr>\n",
       "  </tbody>\n",
       "</table>\n",
       "<p>409 rows × 11 columns</p>\n",
       "</div>"
      ],
      "text/plain": [
       "      work_year experience_level employment_type                 job_title  \\\n",
       "0          2023     Senior Level       Full Time  Principal Data Scientist   \n",
       "5          2023     Senior Level       Full Time         Applied Scientist   \n",
       "6          2023     Senior Level       Full Time         Applied Scientist   \n",
       "13         2023      Entry Level       Full Time         Applied Scientist   \n",
       "14         2023      Entry Level       Full Time         Applied Scientist   \n",
       "...         ...              ...             ...                       ...   \n",
       "3749       2021     Senior Level       Full Time           Data Specialist   \n",
       "3750       2020     Senior Level       Full Time            Data Scientist   \n",
       "3751       2021        Mid Level       Full Time  Principal Data Scientist   \n",
       "3753       2020      Entry Level        Contract     Business Data Analyst   \n",
       "3754       2021     Senior Level       Full Time      Data Science Manager   \n",
       "\n",
       "       salary salary_currency  salary_in_usd employee_residence  remote_ratio  \\\n",
       "0       80000             EUR          85847                 ES           100   \n",
       "5      222200             USD         222200                 US             0   \n",
       "6      136000             USD         136000                 US             0   \n",
       "13     213660             USD         213660                 US             0   \n",
       "14     130760             USD         130760                 US             0   \n",
       "...       ...             ...            ...                ...           ...   \n",
       "3749   165000             USD         165000                 US           100   \n",
       "3750   412000             USD         412000                 US           100   \n",
       "3751   151000             USD         151000                 US           100   \n",
       "3753   100000             USD         100000                 US           100   \n",
       "3754  7000000             INR          94665                 IN            50   \n",
       "\n",
       "     company_location company_size  \n",
       "0                  ES        Large  \n",
       "5                  US        Large  \n",
       "6                  US        Large  \n",
       "13                 US        Large  \n",
       "14                 US        Large  \n",
       "...               ...          ...  \n",
       "3749               US        Large  \n",
       "3750               US        Large  \n",
       "3751               US        Large  \n",
       "3753               US        Large  \n",
       "3754               IN        Large  \n",
       "\n",
       "[409 rows x 11 columns]"
      ]
     },
     "execution_count": 70,
     "metadata": {},
     "output_type": "execute_result"
    }
   ],
   "source": [
    "# Filter Columns\n",
    "Large_Companies = DS_Salaries[DS_Salaries[\"company_size\"] == \"Large\"]\n",
    "Large_Companies"
   ]
  },
  {
   "cell_type": "code",
   "execution_count": 71,
   "id": "68c28f21-765a-4022-b541-b7639743f4d6",
   "metadata": {},
   "outputs": [
    {
     "data": {
      "text/html": [
       "<div>\n",
       "<style scoped>\n",
       "    .dataframe tbody tr th:only-of-type {\n",
       "        vertical-align: middle;\n",
       "    }\n",
       "\n",
       "    .dataframe tbody tr th {\n",
       "        vertical-align: top;\n",
       "    }\n",
       "\n",
       "    .dataframe thead th {\n",
       "        text-align: right;\n",
       "    }\n",
       "</style>\n",
       "<table border=\"1\" class=\"dataframe\">\n",
       "  <thead>\n",
       "    <tr style=\"text-align: right;\">\n",
       "      <th></th>\n",
       "      <th>company_size</th>\n",
       "      <th>employment_type</th>\n",
       "      <th>work_year</th>\n",
       "    </tr>\n",
       "  </thead>\n",
       "  <tbody>\n",
       "    <tr>\n",
       "      <th>0</th>\n",
       "      <td>Large</td>\n",
       "      <td>Full Time</td>\n",
       "      <td>2023</td>\n",
       "    </tr>\n",
       "    <tr>\n",
       "      <th>5</th>\n",
       "      <td>Large</td>\n",
       "      <td>Full Time</td>\n",
       "      <td>2023</td>\n",
       "    </tr>\n",
       "    <tr>\n",
       "      <th>6</th>\n",
       "      <td>Large</td>\n",
       "      <td>Full Time</td>\n",
       "      <td>2023</td>\n",
       "    </tr>\n",
       "    <tr>\n",
       "      <th>13</th>\n",
       "      <td>Large</td>\n",
       "      <td>Full Time</td>\n",
       "      <td>2023</td>\n",
       "    </tr>\n",
       "    <tr>\n",
       "      <th>14</th>\n",
       "      <td>Large</td>\n",
       "      <td>Full Time</td>\n",
       "      <td>2023</td>\n",
       "    </tr>\n",
       "    <tr>\n",
       "      <th>...</th>\n",
       "      <td>...</td>\n",
       "      <td>...</td>\n",
       "      <td>...</td>\n",
       "    </tr>\n",
       "    <tr>\n",
       "      <th>3749</th>\n",
       "      <td>Large</td>\n",
       "      <td>Full Time</td>\n",
       "      <td>2021</td>\n",
       "    </tr>\n",
       "    <tr>\n",
       "      <th>3750</th>\n",
       "      <td>Large</td>\n",
       "      <td>Full Time</td>\n",
       "      <td>2020</td>\n",
       "    </tr>\n",
       "    <tr>\n",
       "      <th>3751</th>\n",
       "      <td>Large</td>\n",
       "      <td>Full Time</td>\n",
       "      <td>2021</td>\n",
       "    </tr>\n",
       "    <tr>\n",
       "      <th>3753</th>\n",
       "      <td>Large</td>\n",
       "      <td>Contract</td>\n",
       "      <td>2020</td>\n",
       "    </tr>\n",
       "    <tr>\n",
       "      <th>3754</th>\n",
       "      <td>Large</td>\n",
       "      <td>Full Time</td>\n",
       "      <td>2021</td>\n",
       "    </tr>\n",
       "  </tbody>\n",
       "</table>\n",
       "<p>409 rows × 3 columns</p>\n",
       "</div>"
      ],
      "text/plain": [
       "     company_size employment_type  work_year\n",
       "0           Large       Full Time       2023\n",
       "5           Large       Full Time       2023\n",
       "6           Large       Full Time       2023\n",
       "13          Large       Full Time       2023\n",
       "14          Large       Full Time       2023\n",
       "...           ...             ...        ...\n",
       "3749        Large       Full Time       2021\n",
       "3750        Large       Full Time       2020\n",
       "3751        Large       Full Time       2021\n",
       "3753        Large        Contract       2020\n",
       "3754        Large       Full Time       2021\n",
       "\n",
       "[409 rows x 3 columns]"
      ]
     },
     "execution_count": 71,
     "metadata": {},
     "output_type": "execute_result"
    }
   ],
   "source": [
    "Large_Company = DS_Salaries[DS_Salaries[\"company_size\"] == \"Large\"][[\"company_size\", \"employment_type\", \"work_year\"]]\n",
    "Large_Company"
   ]
  },
  {
   "cell_type": "code",
   "execution_count": 72,
   "id": "6b366ab7-38f9-4459-99fe-551529bc690f",
   "metadata": {},
   "outputs": [
    {
     "data": {
      "text/plain": [
       "344729580"
      ]
     },
     "execution_count": 72,
     "metadata": {},
     "output_type": "execute_result"
    }
   ],
   "source": [
    "Total_Salary = DS_Salaries[\"salary_in_usd\"].sum()\n",
    "Total_Salary"
   ]
  },
  {
   "cell_type": "code",
   "execution_count": 73,
   "id": "c464345a-06e5-4219-9a08-4e7c29b05783",
   "metadata": {},
   "outputs": [
    {
     "data": {
      "text/plain": [
       "133409.28"
      ]
     },
     "execution_count": 73,
     "metadata": {},
     "output_type": "execute_result"
    }
   ],
   "source": [
    "Average_Salary = DS_Salaries[\"salary_in_usd\"].mean().round(2)\n",
    "Average_Salary"
   ]
  },
  {
   "cell_type": "code",
   "execution_count": 74,
   "id": "fc9b398b-f710-4061-84c7-66feddba6163",
   "metadata": {},
   "outputs": [
    {
     "data": {
      "text/plain": [
       "job_title\n",
       "Data Engineer                598\n",
       "Data Scientist               538\n",
       "Data Analyst                 396\n",
       "Machine Learning Engineer    206\n",
       "Analytics Engineer            91\n",
       "                            ... \n",
       "Compliance Data Analyst        1\n",
       "Deep Learning Researcher       1\n",
       "Staff Data Analyst             1\n",
       "Data DevOps Engineer           1\n",
       "Finance Data Analyst           1\n",
       "Name: count, Length: 93, dtype: int64"
      ]
     },
     "execution_count": 74,
     "metadata": {},
     "output_type": "execute_result"
    }
   ],
   "source": [
    "DS_Salaries[\"job_title\"].value_counts() #count of each dictinct value"
   ]
  },
  {
   "cell_type": "code",
   "execution_count": 75,
   "id": "1ca1de52-c047-4cf0-b5c1-89be01382c77",
   "metadata": {},
   "outputs": [
    {
     "data": {
      "text/plain": [
       "job_title\n",
       "Data Engineer                598\n",
       "Data Scientist               538\n",
       "Data Analyst                 396\n",
       "Machine Learning Engineer    206\n",
       "Analytics Engineer            91\n",
       "Research Scientist            65\n",
       "Data Architect                64\n",
       "Data Science Manager          52\n",
       "ML Engineer                   34\n",
       "Research Engineer             33\n",
       "Name: count, dtype: int64"
      ]
     },
     "execution_count": 75,
     "metadata": {},
     "output_type": "execute_result"
    }
   ],
   "source": [
    "Top_10_JobTitles = DS_Salaries[\"job_title\"].value_counts().head(10)\n",
    "Top_10_JobTitles"
   ]
  },
  {
   "cell_type": "code",
   "execution_count": 76,
   "id": "e57516be-87ca-4c3f-9690-86ebd845f2fb",
   "metadata": {},
   "outputs": [
    {
     "data": {
      "text/plain": [
       "employment_type\n",
       "Full Time     2547\n",
       "Part Time       17\n",
       "Contract        10\n",
       "Free Lance      10\n",
       "Name: count, dtype: int64"
      ]
     },
     "execution_count": 76,
     "metadata": {},
     "output_type": "execute_result"
    }
   ],
   "source": [
    "DS_Salaries[\"employment_type\"].value_counts()"
   ]
  },
  {
   "cell_type": "code",
   "execution_count": 77,
   "id": "89568316-f096-48a1-a98a-87a6c6d595d3",
   "metadata": {},
   "outputs": [
    {
     "data": {
      "text/plain": [
       "experience_level\n",
       "Senior Level    1554\n",
       "Mid Level        664\n",
       "Entry Level      270\n",
       "Executive         96\n",
       "Name: count, dtype: int64"
      ]
     },
     "execution_count": 77,
     "metadata": {},
     "output_type": "execute_result"
    }
   ],
   "source": [
    "DS_Salaries[\"experience_level\"].value_counts()"
   ]
  },
  {
   "cell_type": "code",
   "execution_count": 78,
   "id": "dd0fd9c4-0124-4d8d-a260-302bc1828ecd",
   "metadata": {},
   "outputs": [
    {
     "data": {
      "text/plain": [
       "work_year\n",
       "2023    146998.23\n",
       "2022    130176.71\n",
       "2021     93637.39\n",
       "2020     93353.43\n",
       "Name: salary_in_usd, dtype: float64"
      ]
     },
     "execution_count": 78,
     "metadata": {},
     "output_type": "execute_result"
    }
   ],
   "source": [
    "Avg_Salary_By_Work_Year = DS_Salaries.groupby(\"work_year\")[\"salary_in_usd\"].mean().round(2).sort_values(ascending=False)\n",
    "Avg_Salary_By_Work_Year"
   ]
  },
  {
   "cell_type": "code",
   "execution_count": 79,
   "id": "6c3f42b1-92cc-4761-8903-5b0e907cfab9",
   "metadata": {},
   "outputs": [
    {
     "data": {
      "text/html": [
       "<div>\n",
       "<style scoped>\n",
       "    .dataframe tbody tr th:only-of-type {\n",
       "        vertical-align: middle;\n",
       "    }\n",
       "\n",
       "    .dataframe tbody tr th {\n",
       "        vertical-align: top;\n",
       "    }\n",
       "\n",
       "    .dataframe thead th {\n",
       "        text-align: right;\n",
       "    }\n",
       "</style>\n",
       "<table border=\"1\" class=\"dataframe\">\n",
       "  <thead>\n",
       "    <tr style=\"text-align: right;\">\n",
       "      <th></th>\n",
       "      <th>salary_in_usd</th>\n",
       "      <th>remote_ratio</th>\n",
       "    </tr>\n",
       "    <tr>\n",
       "      <th>experience_level</th>\n",
       "      <th></th>\n",
       "      <th></th>\n",
       "    </tr>\n",
       "  </thead>\n",
       "  <tbody>\n",
       "    <tr>\n",
       "      <th>Entry Level</th>\n",
       "      <td>72648.69</td>\n",
       "      <td>59.63</td>\n",
       "    </tr>\n",
       "    <tr>\n",
       "      <th>Mid Level</th>\n",
       "      <td>101828.78</td>\n",
       "      <td>50.08</td>\n",
       "    </tr>\n",
       "    <tr>\n",
       "      <th>Senior Level</th>\n",
       "      <td>153897.44</td>\n",
       "      <td>49.29</td>\n",
       "    </tr>\n",
       "    <tr>\n",
       "      <th>Executive</th>\n",
       "      <td>191078.21</td>\n",
       "      <td>46.88</td>\n",
       "    </tr>\n",
       "  </tbody>\n",
       "</table>\n",
       "</div>"
      ],
      "text/plain": [
       "                  salary_in_usd  remote_ratio\n",
       "experience_level                             \n",
       "Entry Level            72648.69         59.63\n",
       "Mid Level             101828.78         50.08\n",
       "Senior Level          153897.44         49.29\n",
       "Executive             191078.21         46.88"
      ]
     },
     "execution_count": 79,
     "metadata": {},
     "output_type": "execute_result"
    }
   ],
   "source": [
    "Exp_Level_By_Salary_Remote_Ratio = DS_Salaries.groupby(\"experience_level\")[[\"salary_in_usd\", \"remote_ratio\"\n",
    "                                                                           ]].mean().round(2).sort_values(by=\"remote_ratio\", ascending= False)\n",
    "\n",
    "Exp_Level_By_Salary_Remote_Ratio"
   ]
  },
  {
   "cell_type": "code",
   "execution_count": 80,
   "id": "8584eaf7-e3eb-4b7a-84b4-c01da5ad74a3",
   "metadata": {},
   "outputs": [
    {
     "data": {
      "text/html": [
       "<div>\n",
       "<style scoped>\n",
       "    .dataframe tbody tr th:only-of-type {\n",
       "        vertical-align: middle;\n",
       "    }\n",
       "\n",
       "    .dataframe tbody tr th {\n",
       "        vertical-align: top;\n",
       "    }\n",
       "\n",
       "    .dataframe thead th {\n",
       "        text-align: right;\n",
       "    }\n",
       "</style>\n",
       "<table border=\"1\" class=\"dataframe\">\n",
       "  <thead>\n",
       "    <tr style=\"text-align: right;\">\n",
       "      <th></th>\n",
       "      <th></th>\n",
       "      <th>salary_in_usd</th>\n",
       "      <th>remote_ratio</th>\n",
       "    </tr>\n",
       "    <tr>\n",
       "      <th>experience_level</th>\n",
       "      <th>work_year</th>\n",
       "      <th></th>\n",
       "      <th></th>\n",
       "    </tr>\n",
       "  </thead>\n",
       "  <tbody>\n",
       "    <tr>\n",
       "      <th>Senior Level</th>\n",
       "      <th>2021</th>\n",
       "      <td>126085.36</td>\n",
       "      <td>72.60</td>\n",
       "    </tr>\n",
       "    <tr>\n",
       "      <th>Executive</th>\n",
       "      <th>2022</th>\n",
       "      <td>183837.74</td>\n",
       "      <td>70.51</td>\n",
       "    </tr>\n",
       "    <tr>\n",
       "      <th rowspan=\"2\" valign=\"top\">Entry Level</th>\n",
       "      <th>2021</th>\n",
       "      <td>54905.25</td>\n",
       "      <td>69.09</td>\n",
       "    </tr>\n",
       "    <tr>\n",
       "      <th>2020</th>\n",
       "      <td>59512.45</td>\n",
       "      <td>68.18</td>\n",
       "    </tr>\n",
       "    <tr>\n",
       "      <th>Senior Level</th>\n",
       "      <th>2020</th>\n",
       "      <td>137240.50</td>\n",
       "      <td>66.67</td>\n",
       "    </tr>\n",
       "    <tr>\n",
       "      <th>Entry Level</th>\n",
       "      <th>2022</th>\n",
       "      <td>69949.95</td>\n",
       "      <td>66.36</td>\n",
       "    </tr>\n",
       "    <tr>\n",
       "      <th rowspan=\"2\" valign=\"top\">Mid Level</th>\n",
       "      <th>2021</th>\n",
       "      <td>80711.38</td>\n",
       "      <td>66.11</td>\n",
       "    </tr>\n",
       "    <tr>\n",
       "      <th>2020</th>\n",
       "      <td>87564.72</td>\n",
       "      <td>62.50</td>\n",
       "    </tr>\n",
       "    <tr>\n",
       "      <th>Executive</th>\n",
       "      <th>2021</th>\n",
       "      <td>186128.00</td>\n",
       "      <td>60.00</td>\n",
       "    </tr>\n",
       "    <tr>\n",
       "      <th>Senior Level</th>\n",
       "      <th>2022</th>\n",
       "      <td>149572.66</td>\n",
       "      <td>57.63</td>\n",
       "    </tr>\n",
       "    <tr>\n",
       "      <th>Mid Level</th>\n",
       "      <th>2022</th>\n",
       "      <td>99578.62</td>\n",
       "      <td>55.73</td>\n",
       "    </tr>\n",
       "    <tr>\n",
       "      <th>Executive</th>\n",
       "      <th>2020</th>\n",
       "      <td>139944.33</td>\n",
       "      <td>50.00</td>\n",
       "    </tr>\n",
       "    <tr>\n",
       "      <th>Entry Level</th>\n",
       "      <th>2023</th>\n",
       "      <td>91464.92</td>\n",
       "      <td>42.17</td>\n",
       "    </tr>\n",
       "    <tr>\n",
       "      <th>Senior Level</th>\n",
       "      <th>2023</th>\n",
       "      <td>160743.31</td>\n",
       "      <td>39.29</td>\n",
       "    </tr>\n",
       "    <tr>\n",
       "      <th>Mid Level</th>\n",
       "      <th>2023</th>\n",
       "      <td>113659.74</td>\n",
       "      <td>36.42</td>\n",
       "    </tr>\n",
       "    <tr>\n",
       "      <th>Executive</th>\n",
       "      <th>2023</th>\n",
       "      <td>202107.34</td>\n",
       "      <td>22.73</td>\n",
       "    </tr>\n",
       "  </tbody>\n",
       "</table>\n",
       "</div>"
      ],
      "text/plain": [
       "                            salary_in_usd  remote_ratio\n",
       "experience_level work_year                             \n",
       "Senior Level     2021           126085.36         72.60\n",
       "Executive        2022           183837.74         70.51\n",
       "Entry Level      2021            54905.25         69.09\n",
       "                 2020            59512.45         68.18\n",
       "Senior Level     2020           137240.50         66.67\n",
       "Entry Level      2022            69949.95         66.36\n",
       "Mid Level        2021            80711.38         66.11\n",
       "                 2020            87564.72         62.50\n",
       "Executive        2021           186128.00         60.00\n",
       "Senior Level     2022           149572.66         57.63\n",
       "Mid Level        2022            99578.62         55.73\n",
       "Executive        2020           139944.33         50.00\n",
       "Entry Level      2023            91464.92         42.17\n",
       "Senior Level     2023           160743.31         39.29\n",
       "Mid Level        2023           113659.74         36.42\n",
       "Executive        2023           202107.34         22.73"
      ]
     },
     "execution_count": 80,
     "metadata": {},
     "output_type": "execute_result"
    }
   ],
   "source": [
    "#grouping Exp level and work year by salary in usd and remote ratio\n",
    "Group = DS_Salaries.groupby([\"experience_level\", \"work_year\"])[[\"salary_in_usd\", \"remote_ratio\"\n",
    "                                                             ]].mean().round(2).sort_values(by = \"remote_ratio\", ascending = False )\n",
    "\n",
    "Group"
   ]
  },
  {
   "cell_type": "code",
   "execution_count": 81,
   "id": "60815ff0-ff8c-4cbd-a424-af2e1927fb1f",
   "metadata": {},
   "outputs": [],
   "source": [
    "import matplotlib.pyplot as plt"
   ]
  },
  {
   "cell_type": "code",
   "execution_count": 82,
   "id": "beb83eb6-4e7d-48a1-9da9-b00a181d8df3",
   "metadata": {},
   "outputs": [
    {
     "data": {
      "image/png": "[encoded data removed]",
      "text/plain": [
       "<Figure size 640x480 with 1 Axes>"
      ]
     },
     "metadata": {},
     "output_type": "display_data"
    }
   ],
   "source": [
    "plt.plot(Avg_Salary_By_Work_Year.index, Avg_Salary_By_Work_Year.values, marker = '+', linestyle = '--', color = 'r')\n",
    "plt.xlabel(\"Work Year\")\n",
    "plt.ylabel(\"Avg Salary (USD)\")\n",
    "plt.title(\"Avg Salary By Work Year\")\n",
    "#Plt.xticks(rotation = 45)\n",
    "plt.show()"
   ]
  },
  {
   "cell_type": "code",
   "execution_count": 89,
   "id": "450c9322-8d89-4fb7-a73b-e74b777822a0",
   "metadata": {},
   "outputs": [
    {
     "data": {
      "text/plain": [
       "experience_level\n",
       "Senior Level    1554\n",
       "Mid Level        664\n",
       "Entry Level      270\n",
       "Executive         96\n",
       "Name: count, dtype: int64"
      ]
     },
     "execution_count": 89,
     "metadata": {},
     "output_type": "execute_result"
    }
   ],
   "source": [
    "level_counts = DS_Salaries[\"experience_level\"].value_counts()\n",
    "level_counts"
   ]
  },
  {
   "cell_type": "code",
   "execution_count": 84,
   "id": "eff7642c-dc6e-4d64-ae88-d21daf8350b5",
   "metadata": {},
   "outputs": [
    {
     "data": {
      "image/png": "[encoded data removed]",
      "text/plain": [
       "<Figure size 640x400 with 1 Axes>"
      ]
     },
     "metadata": {},
     "output_type": "display_data"
    }
   ],
   "source": [
    "#visualising Experience level column\n",
    "plt.figure(figsize=(8,5), dpi = 80)\n",
    "plt.pie(level_counts, labels = level_counts.index, autopct = \"%1.0f%%\")\n",
    "plt.title(\"Experience Level Distribution\")\n",
    "#plt.savefig(\"pie.png\", dpi = 100, bbox_inches = \"tight\", facecolor =\"red\", transparent=True) #to Save\n",
    "plt.show()"
   ]
  },
  {
   "cell_type": "code",
   "execution_count": 90,
   "id": "cb359046-c7c6-4cf8-8a9c-82201428ab22",
   "metadata": {},
   "outputs": [
    {
     "data": {
      "text/html": [
       "<div>\n",
       "<style scoped>\n",
       "    .dataframe tbody tr th:only-of-type {\n",
       "        vertical-align: middle;\n",
       "    }\n",
       "\n",
       "    .dataframe tbody tr th {\n",
       "        vertical-align: top;\n",
       "    }\n",
       "\n",
       "    .dataframe thead th {\n",
       "        text-align: right;\n",
       "    }\n",
       "</style>\n",
       "<table border=\"1\" class=\"dataframe\">\n",
       "  <thead>\n",
       "    <tr style=\"text-align: right;\">\n",
       "      <th></th>\n",
       "      <th>job_title</th>\n",
       "      <th>count</th>\n",
       "    </tr>\n",
       "  </thead>\n",
       "  <tbody>\n",
       "    <tr>\n",
       "      <th>0</th>\n",
       "      <td>Data Engineer</td>\n",
       "      <td>598</td>\n",
       "    </tr>\n",
       "    <tr>\n",
       "      <th>1</th>\n",
       "      <td>Data Scientist</td>\n",
       "      <td>538</td>\n",
       "    </tr>\n",
       "    <tr>\n",
       "      <th>2</th>\n",
       "      <td>Data Analyst</td>\n",
       "      <td>396</td>\n",
       "    </tr>\n",
       "    <tr>\n",
       "      <th>3</th>\n",
       "      <td>Machine Learning Engineer</td>\n",
       "      <td>240</td>\n",
       "    </tr>\n",
       "    <tr>\n",
       "      <th>4</th>\n",
       "      <td>Analytics Engineer</td>\n",
       "      <td>91</td>\n",
       "    </tr>\n",
       "    <tr>\n",
       "      <th>5</th>\n",
       "      <td>Research Scientist</td>\n",
       "      <td>65</td>\n",
       "    </tr>\n",
       "    <tr>\n",
       "      <th>6</th>\n",
       "      <td>Data Architect</td>\n",
       "      <td>64</td>\n",
       "    </tr>\n",
       "    <tr>\n",
       "      <th>7</th>\n",
       "      <td>Data Science Manager</td>\n",
       "      <td>52</td>\n",
       "    </tr>\n",
       "    <tr>\n",
       "      <th>8</th>\n",
       "      <td>Research Engineer</td>\n",
       "      <td>33</td>\n",
       "    </tr>\n",
       "    <tr>\n",
       "      <th>9</th>\n",
       "      <td>Applied Scientist</td>\n",
       "      <td>31</td>\n",
       "    </tr>\n",
       "  </tbody>\n",
       "</table>\n",
       "</div>"
      ],
      "text/plain": [
       "                   job_title  count\n",
       "0              Data Engineer    598\n",
       "1             Data Scientist    538\n",
       "2               Data Analyst    396\n",
       "3  Machine Learning Engineer    240\n",
       "4         Analytics Engineer     91\n",
       "5         Research Scientist     65\n",
       "6             Data Architect     64\n",
       "7       Data Science Manager     52\n",
       "8          Research Engineer     33\n",
       "9          Applied Scientist     31"
      ]
     },
     "execution_count": 90,
     "metadata": {},
     "output_type": "execute_result"
    }
   ],
   "source": [
    "# Job titles frequency\n",
    "Top10_Jobs = DS_Salaries [\"job_title\"].value_counts().head(10).reset_index()\n",
    "Top10_Jobs"
   ]
  },
  {
   "cell_type": "code",
   "execution_count": 91,
   "id": "25b94a00-5c47-48ae-b8ba-2d8b5beb9531",
   "metadata": {},
   "outputs": [
    {
     "data": {
      "image/png": "[encoded data removed]",
      "text/plain": [
       "<Figure size 640x480 with 1 Axes>"
      ]
     },
     "metadata": {},
     "output_type": "display_data"
    },
    {
     "data": {
      "text/plain": [
       "<Figure size 1200x1000 with 0 Axes>"
      ]
     },
     "metadata": {},
     "output_type": "display_data"
    }
   ],
   "source": [
    "import seaborn as sns\n",
    "sns.barplot(data = Top10_Jobs, x = \"count\", y = \"job_title\")\n",
    "plt.title(\"Top 10 Job Titles\")\n",
    "plt.figure(figsize = (12,10))\n",
    "#plt.savefig(\"dc.png\")\n",
    "plt.show()"
   ]
  },
  {
   "cell_type": "code",
   "execution_count": 92,
   "id": "bb73120f-2f06-4512-a631-932ca7622352",
   "metadata": {},
   "outputs": [],
   "source": [
    "#Reoccuring Job Titles \"ML Engineer\" was replaced with \"Machine Learning Engineer\"\n",
    "dict4 = {\"ML Engineer\": \"Machine Learning Engineer\"}\n",
    "DS_Salaries = DS_Salaries.replace({\"job_title\" : dict4})"
   ]
  },
  {
   "cell_type": "code",
   "execution_count": 94,
   "id": "4ce4a121-6725-44f8-82e7-2f4fbdcc9dbb",
   "metadata": {},
   "outputs": [
    {
     "data": {
      "text/html": [
       "<div>\n",
       "<style scoped>\n",
       "    .dataframe tbody tr th:only-of-type {\n",
       "        vertical-align: middle;\n",
       "    }\n",
       "\n",
       "    .dataframe tbody tr th {\n",
       "        vertical-align: top;\n",
       "    }\n",
       "\n",
       "    .dataframe thead th {\n",
       "        text-align: right;\n",
       "    }\n",
       "</style>\n",
       "<table border=\"1\" class=\"dataframe\">\n",
       "  <thead>\n",
       "    <tr style=\"text-align: right;\">\n",
       "      <th></th>\n",
       "      <th>work_year</th>\n",
       "      <th>salary</th>\n",
       "      <th>salary_in_usd</th>\n",
       "      <th>remote_ratio</th>\n",
       "    </tr>\n",
       "  </thead>\n",
       "  <tbody>\n",
       "    <tr>\n",
       "      <th>work_year</th>\n",
       "      <td>1.000000</td>\n",
       "      <td>-0.099153</td>\n",
       "      <td>0.236958</td>\n",
       "      <td>-0.219160</td>\n",
       "    </tr>\n",
       "    <tr>\n",
       "      <th>salary</th>\n",
       "      <td>-0.099153</td>\n",
       "      <td>1.000000</td>\n",
       "      <td>-0.043672</td>\n",
       "      <td>0.026485</td>\n",
       "    </tr>\n",
       "    <tr>\n",
       "      <th>salary_in_usd</th>\n",
       "      <td>0.236958</td>\n",
       "      <td>-0.043672</td>\n",
       "      <td>1.000000</td>\n",
       "      <td>-0.084502</td>\n",
       "    </tr>\n",
       "    <tr>\n",
       "      <th>remote_ratio</th>\n",
       "      <td>-0.219160</td>\n",
       "      <td>0.026485</td>\n",
       "      <td>-0.084502</td>\n",
       "      <td>1.000000</td>\n",
       "    </tr>\n",
       "  </tbody>\n",
       "</table>\n",
       "</div>"
      ],
      "text/plain": [
       "               work_year    salary  salary_in_usd  remote_ratio\n",
       "work_year       1.000000 -0.099153       0.236958     -0.219160\n",
       "salary         -0.099153  1.000000      -0.043672      0.026485\n",
       "salary_in_usd   0.236958 -0.043672       1.000000     -0.084502\n",
       "remote_ratio   -0.219160  0.026485      -0.084502      1.000000"
      ]
     },
     "execution_count": 94,
     "metadata": {},
     "output_type": "execute_result"
    }
   ],
   "source": [
    "# Correlation\n",
    "numeric_columns = DS_Salaries.select_dtypes(include = \"number\")\n",
    "x = numeric_columns.corr()\n",
    "x"
   ]
  },
  {
   "cell_type": "code",
   "execution_count": 95,
   "id": "af5bb1a1-a2b1-4769-bf61-d76a15d72e56",
   "metadata": {},
   "outputs": [
    {
     "data": {
      "image/png": "[encoded data removed]",
      "text/plain": [
       "<Figure size 640x480 with 2 Axes>"
      ]
     },
     "metadata": {},
     "output_type": "display_data"
    }
   ],
   "source": [
    "sns.heatmap(numeric_columns.corr(), annot = True);"
   ]
  },
  {
   "cell_type": "code",
   "execution_count": null,
   "id": "49baa4bd-e24d-4a54-b6ab-0acadce8ef2b",
   "metadata": {},
   "outputs": [],
   "source": []
  }
 ],
 "metadata": {
  "kernelspec": {
   "display_name": "Python 3 (ipykernel)",
   "language": "python",
   "name": "python3"
  },
  "language_info": {
   "codemirror_mode": {
    "name": "ipython",
    "version": 3
   },
   "file_extension": ".py",
   "mimetype": "text/x-python",
   "name": "python",
   "nbconvert_exporter": "python",
   "pygments_lexer": "ipython3",
   "version": "3.11.7"
  }
 },
 "nbformat": 4,
 "nbformat_minor": 5
}
