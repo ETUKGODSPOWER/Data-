{
 "cells": [
  {
   "cell_type": "code",
   "execution_count": 4,
   "id": "c664e96e-5a44-4432-a0bc-831b5dc38b59",
   "metadata": {},
   "outputs": [],
   "source": [
    "import pandas as pd\n",
    "from sklearn.model_selection import train_test_split\n",
    "from sklearn.linear_model import LinearRegression\n",
    "import statsmodels.api as sm"
   ]
  },
  {
   "cell_type": "code",
   "execution_count": 2,
   "id": "95b82de8-9477-40eb-9725-9ff10a0e4571",
   "metadata": {},
   "outputs": [],
   "source": [
    "df = pd.read_csv('ads_sales_dataset_updated.csv')"
   ]
  },
  {
   "cell_type": "code",
   "execution_count": 3,
   "id": "9f2d63c0-46ef-40b2-bc5d-4fa2c48e1839",
   "metadata": {},
   "outputs": [
    {
     "data": {
      "text/html": [
       "<div>\n",
       "<style scoped>\n",
       "    .dataframe tbody tr th:only-of-type {\n",
       "        vertical-align: middle;\n",
       "    }\n",
       "\n",
       "    .dataframe tbody tr th {\n",
       "        vertical-align: top;\n",
       "    }\n",
       "\n",
       "    .dataframe thead th {\n",
       "        text-align: right;\n",
       "    }\n",
       "</style>\n",
       "<table border=\"1\" class=\"dataframe\">\n",
       "  <thead>\n",
       "    <tr style=\"text-align: right;\">\n",
       "      <th></th>\n",
       "      <th>S/N</th>\n",
       "      <th>Facebook Ads</th>\n",
       "      <th>TV Ads</th>\n",
       "      <th>Radio Ads</th>\n",
       "      <th>Billboard Ads</th>\n",
       "      <th>Sales</th>\n",
       "    </tr>\n",
       "  </thead>\n",
       "  <tbody>\n",
       "    <tr>\n",
       "      <th>0</th>\n",
       "      <td>1</td>\n",
       "      <td>57.450712</td>\n",
       "      <td>33.577874</td>\n",
       "      <td>12.027862</td>\n",
       "      <td>12.270966</td>\n",
       "      <td>249.241213</td>\n",
       "    </tr>\n",
       "    <tr>\n",
       "      <th>1</th>\n",
       "      <td>2</td>\n",
       "      <td>47.926035</td>\n",
       "      <td>35.607845</td>\n",
       "      <td>17.003125</td>\n",
       "      <td>7.233504</td>\n",
       "      <td>205.267132</td>\n",
       "    </tr>\n",
       "    <tr>\n",
       "      <th>2</th>\n",
       "      <td>3</td>\n",
       "      <td>59.715328</td>\n",
       "      <td>40.830512</td>\n",
       "      <td>20.026218</td>\n",
       "      <td>12.608818</td>\n",
       "      <td>265.147874</td>\n",
       "    </tr>\n",
       "    <tr>\n",
       "      <th>3</th>\n",
       "      <td>4</td>\n",
       "      <td>72.845448</td>\n",
       "      <td>40.538021</td>\n",
       "      <td>20.234903</td>\n",
       "      <td>14.066914</td>\n",
       "      <td>307.686417</td>\n",
       "    </tr>\n",
       "    <tr>\n",
       "      <th>4</th>\n",
       "      <td>5</td>\n",
       "      <td>46.487699</td>\n",
       "      <td>16.223306</td>\n",
       "      <td>17.749673</td>\n",
       "      <td>11.240305</td>\n",
       "      <td>207.349696</td>\n",
       "    </tr>\n",
       "    <tr>\n",
       "      <th>...</th>\n",
       "      <td>...</td>\n",
       "      <td>...</td>\n",
       "      <td>...</td>\n",
       "      <td>...</td>\n",
       "      <td>...</td>\n",
       "      <td>...</td>\n",
       "    </tr>\n",
       "    <tr>\n",
       "      <th>195</th>\n",
       "      <td>196</td>\n",
       "      <td>55.779761</td>\n",
       "      <td>25.308243</td>\n",
       "      <td>17.449918</td>\n",
       "      <td>13.159459</td>\n",
       "      <td>243.109346</td>\n",
       "    </tr>\n",
       "    <tr>\n",
       "      <th>196</th>\n",
       "      <td>197</td>\n",
       "      <td>36.742138</td>\n",
       "      <td>12.868655</td>\n",
       "      <td>18.650625</td>\n",
       "      <td>9.881335</td>\n",
       "      <td>195.733202</td>\n",
       "    </tr>\n",
       "    <tr>\n",
       "      <th>197</th>\n",
       "      <td>198</td>\n",
       "      <td>52.305877</td>\n",
       "      <td>43.538724</td>\n",
       "      <td>15.106181</td>\n",
       "      <td>12.044502</td>\n",
       "      <td>234.144762</td>\n",
       "    </tr>\n",
       "    <tr>\n",
       "      <th>198</th>\n",
       "      <td>199</td>\n",
       "      <td>50.873131</td>\n",
       "      <td>28.854602</td>\n",
       "      <td>17.778534</td>\n",
       "      <td>10.084955</td>\n",
       "      <td>220.003181</td>\n",
       "    </tr>\n",
       "    <tr>\n",
       "      <th>199</th>\n",
       "      <td>200</td>\n",
       "      <td>32.855446</td>\n",
       "      <td>42.378163</td>\n",
       "      <td>21.886502</td>\n",
       "      <td>10.089268</td>\n",
       "      <td>176.600014</td>\n",
       "    </tr>\n",
       "  </tbody>\n",
       "</table>\n",
       "<p>200 rows × 6 columns</p>\n",
       "</div>"
      ],
      "text/plain": [
       "     S/N  Facebook Ads     TV Ads  Radio Ads  Billboard Ads       Sales\n",
       "0      1     57.450712  33.577874  12.027862      12.270966  249.241213\n",
       "1      2     47.926035  35.607845  17.003125       7.233504  205.267132\n",
       "2      3     59.715328  40.830512  20.026218      12.608818  265.147874\n",
       "3      4     72.845448  40.538021  20.234903      14.066914  307.686417\n",
       "4      5     46.487699  16.223306  17.749673      11.240305  207.349696\n",
       "..   ...           ...        ...        ...            ...         ...\n",
       "195  196     55.779761  25.308243  17.449918      13.159459  243.109346\n",
       "196  197     36.742138  12.868655  18.650625       9.881335  195.733202\n",
       "197  198     52.305877  43.538724  15.106181      12.044502  234.144762\n",
       "198  199     50.873131  28.854602  17.778534      10.084955  220.003181\n",
       "199  200     32.855446  42.378163  21.886502      10.089268  176.600014\n",
       "\n",
       "[200 rows x 6 columns]"
      ]
     },
     "execution_count": 3,
     "metadata": {},
     "output_type": "execute_result"
    }
   ],
   "source": [
    "df"
   ]
  },
  {
   "cell_type": "code",
   "execution_count": 6,
   "id": "0f9cf4bf-80b6-41c9-879a-c962aa795a84",
   "metadata": {},
   "outputs": [],
   "source": [
    "df.drop(columns='S/N', inplace=True)"
   ]
  },
  {
   "cell_type": "code",
   "execution_count": 7,
   "id": "ac0fcc64-6b70-41a8-87e8-45f0805fb246",
   "metadata": {},
   "outputs": [
    {
     "data": {
      "text/html": [
       "<div>\n",
       "<style scoped>\n",
       "    .dataframe tbody tr th:only-of-type {\n",
       "        vertical-align: middle;\n",
       "    }\n",
       "\n",
       "    .dataframe tbody tr th {\n",
       "        vertical-align: top;\n",
       "    }\n",
       "\n",
       "    .dataframe thead th {\n",
       "        text-align: right;\n",
       "    }\n",
       "</style>\n",
       "<table border=\"1\" class=\"dataframe\">\n",
       "  <thead>\n",
       "    <tr style=\"text-align: right;\">\n",
       "      <th></th>\n",
       "      <th>Facebook Ads</th>\n",
       "      <th>TV Ads</th>\n",
       "      <th>Radio Ads</th>\n",
       "      <th>Billboard Ads</th>\n",
       "      <th>Sales</th>\n",
       "    </tr>\n",
       "  </thead>\n",
       "  <tbody>\n",
       "    <tr>\n",
       "      <th>Facebook Ads</th>\n",
       "      <td>1.000000</td>\n",
       "      <td>0.095147</td>\n",
       "      <td>-0.134197</td>\n",
       "      <td>0.065398</td>\n",
       "      <td>0.953290</td>\n",
       "    </tr>\n",
       "    <tr>\n",
       "      <th>TV Ads</th>\n",
       "      <td>0.095147</td>\n",
       "      <td>1.000000</td>\n",
       "      <td>-0.032626</td>\n",
       "      <td>-0.101396</td>\n",
       "      <td>0.052122</td>\n",
       "    </tr>\n",
       "    <tr>\n",
       "      <th>Radio Ads</th>\n",
       "      <td>-0.134197</td>\n",
       "      <td>-0.032626</td>\n",
       "      <td>1.000000</td>\n",
       "      <td>0.105959</td>\n",
       "      <td>0.080648</td>\n",
       "    </tr>\n",
       "    <tr>\n",
       "      <th>Billboard Ads</th>\n",
       "      <td>0.065398</td>\n",
       "      <td>-0.101396</td>\n",
       "      <td>0.105959</td>\n",
       "      <td>1.000000</td>\n",
       "      <td>0.191849</td>\n",
       "    </tr>\n",
       "    <tr>\n",
       "      <th>Sales</th>\n",
       "      <td>0.953290</td>\n",
       "      <td>0.052122</td>\n",
       "      <td>0.080648</td>\n",
       "      <td>0.191849</td>\n",
       "      <td>1.000000</td>\n",
       "    </tr>\n",
       "  </tbody>\n",
       "</table>\n",
       "</div>"
      ],
      "text/plain": [
       "               Facebook Ads    TV Ads  Radio Ads  Billboard Ads     Sales\n",
       "Facebook Ads       1.000000  0.095147  -0.134197       0.065398  0.953290\n",
       "TV Ads             0.095147  1.000000  -0.032626      -0.101396  0.052122\n",
       "Radio Ads         -0.134197 -0.032626   1.000000       0.105959  0.080648\n",
       "Billboard Ads      0.065398 -0.101396   0.105959       1.000000  0.191849\n",
       "Sales              0.953290  0.052122   0.080648       0.191849  1.000000"
      ]
     },
     "execution_count": 7,
     "metadata": {},
     "output_type": "execute_result"
    }
   ],
   "source": [
    "df.corr()"
   ]
  },
  {
   "cell_type": "code",
   "execution_count": 12,
   "id": "784673b9-ff30-464c-9675-c75e834c2a34",
   "metadata": {},
   "outputs": [],
   "source": [
    "X = df.drop(columns='Sales')\n",
    "y = df['Sales']"
   ]
  },
  {
   "cell_type": "markdown",
   "id": "32c8c622-59b7-490c-bd14-05975bf7bf1d",
   "metadata": {},
   "source": [
    "### Split the data into trianing and testing set"
   ]
  },
  {
   "cell_type": "code",
   "execution_count": 13,
   "id": "1600c226-dc7a-4e53-905a-f1881533bc9a",
   "metadata": {},
   "outputs": [],
   "source": [
    "X_train, X_test, y_train, y_test = train_test_split(X, y, test_size=0.2, random_state=42)"
   ]
  },
  {
   "cell_type": "code",
   "execution_count": 15,
   "id": "af718a37-c212-4d70-9b50-057e12381401",
   "metadata": {},
   "outputs": [
    {
     "data": {
      "text/html": [
       "<style>#sk-container-id-1 {color: black;background-color: white;}#sk-container-id-1 pre{padding: 0;}#sk-container-id-1 div.sk-toggleable {background-color: white;}#sk-container-id-1 label.sk-toggleable__label {cursor: pointer;display: block;width: 100%;margin-bottom: 0;padding: 0.3em;box-sizing: border-box;text-align: center;}#sk-container-id-1 label.sk-toggleable__label-arrow:before {content: \"▸\";float: left;margin-right: 0.25em;color: #696969;}#sk-container-id-1 label.sk-toggleable__label-arrow:hover:before {color: black;}#sk-container-id-1 div.sk-estimator:hover label.sk-toggleable__label-arrow:before {color: black;}#sk-container-id-1 div.sk-toggleable__content {max-height: 0;max-width: 0;overflow: hidden;text-align: left;background-color: #f0f8ff;}#sk-container-id-1 div.sk-toggleable__content pre {margin: 0.2em;color: black;border-radius: 0.25em;background-color: #f0f8ff;}#sk-container-id-1 input.sk-toggleable__control:checked~div.sk-toggleable__content {max-height: 200px;max-width: 100%;overflow: auto;}#sk-container-id-1 input.sk-toggleable__control:checked~label.sk-toggleable__label-arrow:before {content: \"▾\";}#sk-container-id-1 div.sk-estimator input.sk-toggleable__control:checked~label.sk-toggleable__label {background-color: #d4ebff;}#sk-container-id-1 div.sk-label input.sk-toggleable__control:checked~label.sk-toggleable__label {background-color: #d4ebff;}#sk-container-id-1 input.sk-hidden--visually {border: 0;clip: rect(1px 1px 1px 1px);clip: rect(1px, 1px, 1px, 1px);height: 1px;margin: -1px;overflow: hidden;padding: 0;position: absolute;width: 1px;}#sk-container-id-1 div.sk-estimator {font-family: monospace;background-color: #f0f8ff;border: 1px dotted black;border-radius: 0.25em;box-sizing: border-box;margin-bottom: 0.5em;}#sk-container-id-1 div.sk-estimator:hover {background-color: #d4ebff;}#sk-container-id-1 div.sk-parallel-item::after {content: \"\";width: 100%;border-bottom: 1px solid gray;flex-grow: 1;}#sk-container-id-1 div.sk-label:hover label.sk-toggleable__label {background-color: #d4ebff;}#sk-container-id-1 div.sk-serial::before {content: \"\";position: absolute;border-left: 1px solid gray;box-sizing: border-box;top: 0;bottom: 0;left: 50%;z-index: 0;}#sk-container-id-1 div.sk-serial {display: flex;flex-direction: column;align-items: center;background-color: white;padding-right: 0.2em;padding-left: 0.2em;position: relative;}#sk-container-id-1 div.sk-item {position: relative;z-index: 1;}#sk-container-id-1 div.sk-parallel {display: flex;align-items: stretch;justify-content: center;background-color: white;position: relative;}#sk-container-id-1 div.sk-item::before, #sk-container-id-1 div.sk-parallel-item::before {content: \"\";position: absolute;border-left: 1px solid gray;box-sizing: border-box;top: 0;bottom: 0;left: 50%;z-index: -1;}#sk-container-id-1 div.sk-parallel-item {display: flex;flex-direction: column;z-index: 1;position: relative;background-color: white;}#sk-container-id-1 div.sk-parallel-item:first-child::after {align-self: flex-end;width: 50%;}#sk-container-id-1 div.sk-parallel-item:last-child::after {align-self: flex-start;width: 50%;}#sk-container-id-1 div.sk-parallel-item:only-child::after {width: 0;}#sk-container-id-1 div.sk-dashed-wrapped {border: 1px dashed gray;margin: 0 0.4em 0.5em 0.4em;box-sizing: border-box;padding-bottom: 0.4em;background-color: white;}#sk-container-id-1 div.sk-label label {font-family: monospace;font-weight: bold;display: inline-block;line-height: 1.2em;}#sk-container-id-1 div.sk-label-container {text-align: center;}#sk-container-id-1 div.sk-container {/* jupyter's `normalize.less` sets `[hidden] { display: none; }` but bootstrap.min.css set `[hidden] { display: none !important; }` so we also need the `!important` here to be able to override the default hidden behavior on the sphinx rendered scikit-learn.org. See: https://github.com/scikit-learn/scikit-learn/issues/21755 */display: inline-block !important;position: relative;}#sk-container-id-1 div.sk-text-repr-fallback {display: none;}</style><div id=\"sk-container-id-1\" class=\"sk-top-container\"><div class=\"sk-text-repr-fallback\"><pre>LinearRegression()</pre><b>In a Jupyter environment, please rerun this cell to show the HTML representation or trust the notebook. <br />On GitHub, the HTML representation is unable to render, please try loading this page with nbviewer.org.</b></div><div class=\"sk-container\" hidden><div class=\"sk-item\"><div class=\"sk-estimator sk-toggleable\"><input class=\"sk-toggleable__control sk-hidden--visually\" id=\"sk-estimator-id-1\" type=\"checkbox\" checked><label for=\"sk-estimator-id-1\" class=\"sk-toggleable__label sk-toggleable__label-arrow\">LinearRegression</label><div class=\"sk-toggleable__content\"><pre>LinearRegression()</pre></div></div></div></div></div>"
      ],
      "text/plain": [
       "LinearRegression()"
      ]
     },
     "execution_count": 15,
     "metadata": {},
     "output_type": "execute_result"
    }
   ],
   "source": [
    "model = LinearRegression()\n",
    "model.fit(X_train, y_train)"
   ]
  },
  {
   "cell_type": "code",
   "execution_count": 17,
   "id": "ac545ef9-a8d5-40a0-aa01-613bb36bf4c6",
   "metadata": {},
   "outputs": [
    {
     "name": "stdout",
     "output_type": "stream",
     "text": [
      "Feature coefficients: \n",
      "Facebook Ads: 3.508430110914172\n",
      "Radio Ads: 2.0649499673221077\n",
      "Billboard Ads: 1.7307750662747665\n",
      "TV Ads: -0.14451379296037486\n"
     ]
    }
   ],
   "source": [
    "print('Feature coefficients: ')\n",
    "print(f'Facebook Ads: {model.coef_[0]}')\n",
    "print(f'Radio Ads: {model.coef_[2]}')\n",
    "print(f'Billboard Ads: {model.coef_[3]}')\n",
    "print(f'TV Ads: {model.coef_[1]}')"
   ]
  },
  {
   "cell_type": "code",
   "execution_count": 19,
   "id": "d05b9bc7-3ae6-4cf3-8bb4-0152352b7138",
   "metadata": {},
   "outputs": [
    {
     "name": "stdout",
     "output_type": "stream",
     "text": [
      "                            OLS Regression Results                            \n",
      "==============================================================================\n",
      "Dep. Variable:                  Sales   R-squared:                       0.968\n",
      "Model:                            OLS   Adj. R-squared:                  0.967\n",
      "Method:                 Least Squares   F-statistic:                     1163.\n",
      "Date:                Mon, 05 Aug 2024   Prob (F-statistic):          1.92e-114\n",
      "Time:                        10:07:29   Log-Likelihood:                -580.61\n",
      "No. Observations:                 160   AIC:                             1171.\n",
      "Df Residuals:                     155   BIC:                             1187.\n",
      "Df Model:                           4                                         \n",
      "Covariance Type:            nonrobust                                         \n",
      "=================================================================================\n",
      "                    coef    std err          t      P>|t|      [0.025      0.975]\n",
      "---------------------------------------------------------------------------------\n",
      "const            -1.0152      5.186     -0.196      0.845     -11.259       9.229\n",
      "Facebook Ads      3.5084      0.053     66.351      0.000       3.404       3.613\n",
      "TV Ads           -0.1445      0.078     -1.844      0.067      -0.299       0.010\n",
      "Radio Ads         2.0649      0.149     13.867      0.000       1.771       2.359\n",
      "Billboard Ads     1.7308      0.239      7.256      0.000       1.260       2.202\n",
      "==============================================================================\n",
      "Omnibus:                        1.050   Durbin-Watson:                   2.109\n",
      "Prob(Omnibus):                  0.591   Jarque-Bera (JB):                1.083\n",
      "Skew:                           0.095   Prob(JB):                        0.582\n",
      "Kurtosis:                       2.644   Cond. No.                         447.\n",
      "==============================================================================\n",
      "\n",
      "Notes:\n",
      "[1] Standard Errors assume that the covariance matrix of the errors is correctly specified.\n"
     ]
    }
   ],
   "source": [
    "X_train_sm = sm.add_constant(X_train) # Adding a constant for the intercept\n",
    "model_sm = sm.OLS(y_train, X_train_sm).fit()\n",
    "print(model_sm.summary())"
   ]
  },
  {
   "cell_type": "code",
   "execution_count": 20,
   "id": "2b5499f0-096e-4ccb-b92d-1ece9d1e5fd7",
   "metadata": {},
   "outputs": [],
   "source": [
    "import numpy as np"
   ]
  },
  {
   "cell_type": "code",
   "execution_count": 24,
   "id": "ac93ed83-bb40-418f-9027-fab4e7e4833c",
   "metadata": {},
   "outputs": [
    {
     "name": "stdout",
     "output_type": "stream",
     "text": [
      "Predicted sales: 12833.1658477107\n"
     ]
    },
    {
     "name": "stderr",
     "output_type": "stream",
     "text": [
      "C:\\Users\\Eben\\anaconda3\\Lib\\site-packages\\sklearn\\base.py:439: UserWarning: X does not have valid feature names, but LinearRegression was fitted with feature names\n",
      "  warnings.warn(\n"
     ]
    }
   ],
   "source": [
    "new_ad = np.array([[2000, 300, 2000, 1000]])\n",
    "predicted_ad = model.predict(new_ad)\n",
    "print(f'Predicted sales: {predicted_ad[0]}')"
   ]
  },
  {
   "cell_type": "code",
   "execution_count": null,
   "id": "0000d2c0-8b22-413e-b1b7-138740b30651",
   "metadata": {},
   "outputs": [],
   "source": []
  },
  {
   "cell_type": "code",
   "execution_count": null,
   "id": "9cd5c3a7-f50e-4f02-a8f5-d2688ca84361",
   "metadata": {},
   "outputs": [],
   "source": []
  },
  {
   "cell_type": "code",
   "execution_count": null,
   "id": "fb79bc95-799e-47d3-8448-9bc56cd2df72",
   "metadata": {},
   "outputs": [],
   "source": []
  },
  {
   "cell_type": "code",
   "execution_count": null,
   "id": "1a801695-566a-4fe7-a78c-2917d2fcf9df",
   "metadata": {},
   "outputs": [],
   "source": []
  }
 ],
 "metadata": {
  "kernelspec": {
   "display_name": "Python 3 (ipykernel)",
   "language": "python",
   "name": "python3"
  },
  "language_info": {
   "codemirror_mode": {
    "name": "ipython",
    "version": 3
   },
   "file_extension": ".py",
   "mimetype": "text/x-python",
   "name": "python",
   "nbconvert_exporter": "python",
   "pygments_lexer": "ipython3",
   "version": "3.11.7"
  },
  "widgets": {
   "application/vnd.jupyter.widget-state+json": {
    "state": {},
    "version_major": 2,
    "version_minor": 0
   }
  }
 },
 "nbformat": 4,
 "nbformat_minor": 5
}
